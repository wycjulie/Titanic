{
 "cells": [
  {
   "cell_type": "code",
   "execution_count": 1,
   "metadata": {
    "_cell_guid": "b1076dfc-b9ad-4769-8c92-a6c4dae69d19",
    "_uuid": "8f2839f25d086af736a60e9eeb907d3b93b6e0e5",
    "execution": {
     "iopub.execute_input": "2020-11-17T08:15:19.885755Z",
     "iopub.status.busy": "2020-11-17T08:15:19.884896Z",
     "iopub.status.idle": "2020-11-17T08:15:21.908045Z",
     "shell.execute_reply": "2020-11-17T08:15:21.907143Z"
    },
    "papermill": {
     "duration": 2.102231,
     "end_time": "2020-11-17T08:15:21.908214",
     "exception": false,
     "start_time": "2020-11-17T08:15:19.805983",
     "status": "completed"
    },
    "tags": []
   },
   "outputs": [
    {
     "name": "stdout",
     "output_type": "stream",
     "text": [
      "/kaggle/input/titanic/train.csv\n",
      "/kaggle/input/titanic/gender_submission.csv\n",
      "/kaggle/input/titanic/test.csv\n"
     ]
    }
   ],
   "source": [
    "# This Python 3 environment comes with many helpful analytics libraries installed\n",
    "# It is defined by the kaggle/python Docker image: https://github.com/kaggle/docker-python\n",
    "# For example, here's several helpful packages to load\n",
    "\n",
    "import numpy as np # linear algebra\n",
    "import pandas as pd # data processing, CSV file I/O (e.g. pd.read_csv)\n",
    "import seaborn as sns\n",
    "import matplotlib.pyplot as plt\n",
    "from sklearn.model_selection import train_test_split, cross_val_score, learning_curve, GridSearchCV\n",
    "from sklearn.preprocessing import LabelEncoder\n",
    "from sklearn.feature_selection import RFECV\n",
    "from sklearn.ensemble import RandomForestClassifier\n",
    "from sklearn.tree import DecisionTreeClassifier\n",
    "import xgboost as xgb\n",
    "from IPython.display import display, HTML\n",
    "\n",
    "# Input data files are available in the read-only \"../input/\" directory\n",
    "# For example, running this (by clicking run or pressing Shift+Enter) will list all files under the input directory\n",
    "\n",
    "import os\n",
    "for dirname, _, filenames in os.walk('/kaggle/input'):\n",
    "    for filename in filenames:\n",
    "        print(os.path.join(dirname, filename))\n",
    "\n",
    "# You can write up to 5GB to the current directory (/kaggle/working/) that gets preserved as output when you create a version using \"Save & Run All\" \n",
    "# You can also write temporary files to /kaggle/temp/, but they won't be saved outside of the current session"
   ]
  },
  {
   "cell_type": "markdown",
   "metadata": {
    "papermill": {
     "duration": 0.065159,
     "end_time": "2020-11-17T08:15:22.040796",
     "exception": false,
     "start_time": "2020-11-17T08:15:21.975637",
     "status": "completed"
    },
    "tags": []
   },
   "source": [
    "# Load data"
   ]
  },
  {
   "cell_type": "code",
   "execution_count": 2,
   "metadata": {
    "_cell_guid": "79c7e3d0-c299-4dcb-8224-4455121ee9b0",
    "_uuid": "d629ff2d2480ee46fbb7e2d37f6b5fab8052498a",
    "execution": {
     "iopub.execute_input": "2020-11-17T08:15:22.184432Z",
     "iopub.status.busy": "2020-11-17T08:15:22.183424Z",
     "iopub.status.idle": "2020-11-17T08:15:22.204647Z",
     "shell.execute_reply": "2020-11-17T08:15:22.203706Z"
    },
    "papermill": {
     "duration": 0.0941,
     "end_time": "2020-11-17T08:15:22.204801",
     "exception": false,
     "start_time": "2020-11-17T08:15:22.110701",
     "status": "completed"
    },
    "tags": []
   },
   "outputs": [
    {
     "name": "stdout",
     "output_type": "stream",
     "text": [
      "shape of training data: (891, 12)\n",
      "shape of testing data: (418, 11)\n"
     ]
    }
   ],
   "source": [
    "train = pd.read_csv('/kaggle/input/titanic/train.csv')\n",
    "test = pd.read_csv('/kaggle/input/titanic/test.csv')\n",
    "print(f'shape of training data: {train.shape}\\nshape of testing data: {test.shape}')"
   ]
  },
  {
   "cell_type": "code",
   "execution_count": 3,
   "metadata": {
    "execution": {
     "iopub.execute_input": "2020-11-17T08:15:22.356762Z",
     "iopub.status.busy": "2020-11-17T08:15:22.355733Z",
     "iopub.status.idle": "2020-11-17T08:15:22.359199Z",
     "shell.execute_reply": "2020-11-17T08:15:22.358480Z"
    },
    "papermill": {
     "duration": 0.086928,
     "end_time": "2020-11-17T08:15:22.359331",
     "exception": false,
     "start_time": "2020-11-17T08:15:22.272403",
     "status": "completed"
    },
    "tags": []
   },
   "outputs": [],
   "source": [
    "df = pd.concat([train, test], ignore_index=True)"
   ]
  },
  {
   "cell_type": "markdown",
   "metadata": {
    "papermill": {
     "duration": 0.066188,
     "end_time": "2020-11-17T08:15:22.492425",
     "exception": false,
     "start_time": "2020-11-17T08:15:22.426237",
     "status": "completed"
    },
    "tags": []
   },
   "source": [
    "# Data Overview\n",
    "## missing value\n",
    "以下欄位有missing value:\n",
    "* Age\n",
    "* Cabin (特別多missing value)\n",
    "* Fare\n",
    "* Embarked\n",
    "\n",
    "## data type\n",
    "* 7 float/int features\n",
    "* 5 object(string) features"
   ]
  },
  {
   "cell_type": "code",
   "execution_count": 4,
   "metadata": {
    "execution": {
     "iopub.execute_input": "2020-11-17T08:15:22.631185Z",
     "iopub.status.busy": "2020-11-17T08:15:22.630329Z",
     "iopub.status.idle": "2020-11-17T08:15:22.644046Z",
     "shell.execute_reply": "2020-11-17T08:15:22.644612Z"
    },
    "papermill": {
     "duration": 0.085904,
     "end_time": "2020-11-17T08:15:22.644766",
     "exception": false,
     "start_time": "2020-11-17T08:15:22.558862",
     "status": "completed"
    },
    "tags": []
   },
   "outputs": [
    {
     "name": "stdout",
     "output_type": "stream",
     "text": [
      "<class 'pandas.core.frame.DataFrame'>\n",
      "RangeIndex: 1309 entries, 0 to 1308\n",
      "Data columns (total 12 columns):\n",
      " #   Column       Non-Null Count  Dtype  \n",
      "---  ------       --------------  -----  \n",
      " 0   PassengerId  1309 non-null   int64  \n",
      " 1   Survived     891 non-null    float64\n",
      " 2   Pclass       1309 non-null   int64  \n",
      " 3   Name         1309 non-null   object \n",
      " 4   Sex          1309 non-null   object \n",
      " 5   Age          1046 non-null   float64\n",
      " 6   SibSp        1309 non-null   int64  \n",
      " 7   Parch        1309 non-null   int64  \n",
      " 8   Ticket       1309 non-null   object \n",
      " 9   Fare         1308 non-null   float64\n",
      " 10  Cabin        295 non-null    object \n",
      " 11  Embarked     1307 non-null   object \n",
      "dtypes: float64(3), int64(4), object(5)\n",
      "memory usage: 122.8+ KB\n"
     ]
    }
   ],
   "source": [
    "df.info()"
   ]
  },
  {
   "cell_type": "code",
   "execution_count": 5,
   "metadata": {
    "execution": {
     "iopub.execute_input": "2020-11-17T08:15:22.789851Z",
     "iopub.status.busy": "2020-11-17T08:15:22.789026Z",
     "iopub.status.idle": "2020-11-17T08:15:22.793426Z",
     "shell.execute_reply": "2020-11-17T08:15:22.792743Z"
    },
    "papermill": {
     "duration": 0.081508,
     "end_time": "2020-11-17T08:15:22.793551",
     "exception": false,
     "start_time": "2020-11-17T08:15:22.712043",
     "status": "completed"
    },
    "tags": []
   },
   "outputs": [
    {
     "data": {
      "text/plain": [
       "PassengerId       0\n",
       "Survived        418\n",
       "Pclass            0\n",
       "Name              0\n",
       "Sex               0\n",
       "Age             263\n",
       "SibSp             0\n",
       "Parch             0\n",
       "Ticket            0\n",
       "Fare              1\n",
       "Cabin          1014\n",
       "Embarked          2\n",
       "dtype: int64"
      ]
     },
     "execution_count": 5,
     "metadata": {},
     "output_type": "execute_result"
    }
   ],
   "source": [
    "df.isnull().sum()"
   ]
  },
  {
   "cell_type": "markdown",
   "metadata": {
    "papermill": {
     "duration": 0.067404,
     "end_time": "2020-11-17T08:15:22.928855",
     "exception": false,
     "start_time": "2020-11-17T08:15:22.861451",
     "status": "completed"
    },
    "tags": []
   },
   "source": [
    "## Numeric data\n",
    "* 多數人(>75%)的人沒有和parents, children一起\n",
    "* 票價分佈範圍很廣，有少數的人買很貴的票\n",
    "* 有少數年紀很大的人\n",
    "\n",
    "## Categorical data\n",
    "* 性別男性占多數\n",
    "* ticket和cabin有些值重複\n",
    "* embarked: S港口最多人"
   ]
  },
  {
   "cell_type": "code",
   "execution_count": 6,
   "metadata": {
    "execution": {
     "iopub.execute_input": "2020-11-17T08:15:23.074596Z",
     "iopub.status.busy": "2020-11-17T08:15:23.073498Z",
     "iopub.status.idle": "2020-11-17T08:15:23.108494Z",
     "shell.execute_reply": "2020-11-17T08:15:23.107931Z"
    },
    "papermill": {
     "duration": 0.112122,
     "end_time": "2020-11-17T08:15:23.108616",
     "exception": false,
     "start_time": "2020-11-17T08:15:22.996494",
     "status": "completed"
    },
    "tags": []
   },
   "outputs": [
    {
     "data": {
      "text/html": [
       "<div>\n",
       "<style scoped>\n",
       "    .dataframe tbody tr th:only-of-type {\n",
       "        vertical-align: middle;\n",
       "    }\n",
       "\n",
       "    .dataframe tbody tr th {\n",
       "        vertical-align: top;\n",
       "    }\n",
       "\n",
       "    .dataframe thead th {\n",
       "        text-align: right;\n",
       "    }\n",
       "</style>\n",
       "<table border=\"1\" class=\"dataframe\">\n",
       "  <thead>\n",
       "    <tr style=\"text-align: right;\">\n",
       "      <th></th>\n",
       "      <th>PassengerId</th>\n",
       "      <th>Survived</th>\n",
       "      <th>Pclass</th>\n",
       "      <th>Age</th>\n",
       "      <th>SibSp</th>\n",
       "      <th>Parch</th>\n",
       "      <th>Fare</th>\n",
       "    </tr>\n",
       "  </thead>\n",
       "  <tbody>\n",
       "    <tr>\n",
       "      <th>count</th>\n",
       "      <td>1309.000000</td>\n",
       "      <td>891.000000</td>\n",
       "      <td>1309.000000</td>\n",
       "      <td>1046.000000</td>\n",
       "      <td>1309.000000</td>\n",
       "      <td>1309.000000</td>\n",
       "      <td>1308.000000</td>\n",
       "    </tr>\n",
       "    <tr>\n",
       "      <th>mean</th>\n",
       "      <td>655.000000</td>\n",
       "      <td>0.383838</td>\n",
       "      <td>2.294882</td>\n",
       "      <td>29.881138</td>\n",
       "      <td>0.498854</td>\n",
       "      <td>0.385027</td>\n",
       "      <td>33.295479</td>\n",
       "    </tr>\n",
       "    <tr>\n",
       "      <th>std</th>\n",
       "      <td>378.020061</td>\n",
       "      <td>0.486592</td>\n",
       "      <td>0.837836</td>\n",
       "      <td>14.413493</td>\n",
       "      <td>1.041658</td>\n",
       "      <td>0.865560</td>\n",
       "      <td>51.758668</td>\n",
       "    </tr>\n",
       "    <tr>\n",
       "      <th>min</th>\n",
       "      <td>1.000000</td>\n",
       "      <td>0.000000</td>\n",
       "      <td>1.000000</td>\n",
       "      <td>0.170000</td>\n",
       "      <td>0.000000</td>\n",
       "      <td>0.000000</td>\n",
       "      <td>0.000000</td>\n",
       "    </tr>\n",
       "    <tr>\n",
       "      <th>25%</th>\n",
       "      <td>328.000000</td>\n",
       "      <td>0.000000</td>\n",
       "      <td>2.000000</td>\n",
       "      <td>21.000000</td>\n",
       "      <td>0.000000</td>\n",
       "      <td>0.000000</td>\n",
       "      <td>7.895800</td>\n",
       "    </tr>\n",
       "    <tr>\n",
       "      <th>50%</th>\n",
       "      <td>655.000000</td>\n",
       "      <td>0.000000</td>\n",
       "      <td>3.000000</td>\n",
       "      <td>28.000000</td>\n",
       "      <td>0.000000</td>\n",
       "      <td>0.000000</td>\n",
       "      <td>14.454200</td>\n",
       "    </tr>\n",
       "    <tr>\n",
       "      <th>75%</th>\n",
       "      <td>982.000000</td>\n",
       "      <td>1.000000</td>\n",
       "      <td>3.000000</td>\n",
       "      <td>39.000000</td>\n",
       "      <td>1.000000</td>\n",
       "      <td>0.000000</td>\n",
       "      <td>31.275000</td>\n",
       "    </tr>\n",
       "    <tr>\n",
       "      <th>max</th>\n",
       "      <td>1309.000000</td>\n",
       "      <td>1.000000</td>\n",
       "      <td>3.000000</td>\n",
       "      <td>80.000000</td>\n",
       "      <td>8.000000</td>\n",
       "      <td>9.000000</td>\n",
       "      <td>512.329200</td>\n",
       "    </tr>\n",
       "  </tbody>\n",
       "</table>\n",
       "</div>"
      ],
      "text/plain": [
       "       PassengerId    Survived       Pclass          Age        SibSp  \\\n",
       "count  1309.000000  891.000000  1309.000000  1046.000000  1309.000000   \n",
       "mean    655.000000    0.383838     2.294882    29.881138     0.498854   \n",
       "std     378.020061    0.486592     0.837836    14.413493     1.041658   \n",
       "min       1.000000    0.000000     1.000000     0.170000     0.000000   \n",
       "25%     328.000000    0.000000     2.000000    21.000000     0.000000   \n",
       "50%     655.000000    0.000000     3.000000    28.000000     0.000000   \n",
       "75%     982.000000    1.000000     3.000000    39.000000     1.000000   \n",
       "max    1309.000000    1.000000     3.000000    80.000000     8.000000   \n",
       "\n",
       "             Parch         Fare  \n",
       "count  1309.000000  1308.000000  \n",
       "mean      0.385027    33.295479  \n",
       "std       0.865560    51.758668  \n",
       "min       0.000000     0.000000  \n",
       "25%       0.000000     7.895800  \n",
       "50%       0.000000    14.454200  \n",
       "75%       0.000000    31.275000  \n",
       "max       9.000000   512.329200  "
      ]
     },
     "execution_count": 6,
     "metadata": {},
     "output_type": "execute_result"
    }
   ],
   "source": [
    "df.describe()"
   ]
  },
  {
   "cell_type": "code",
   "execution_count": 7,
   "metadata": {
    "execution": {
     "iopub.execute_input": "2020-11-17T08:15:23.278902Z",
     "iopub.status.busy": "2020-11-17T08:15:23.255478Z",
     "iopub.status.idle": "2020-11-17T08:15:23.287156Z",
     "shell.execute_reply": "2020-11-17T08:15:23.287695Z"
    },
    "papermill": {
     "duration": 0.109256,
     "end_time": "2020-11-17T08:15:23.287877",
     "exception": false,
     "start_time": "2020-11-17T08:15:23.178621",
     "status": "completed"
    },
    "tags": []
   },
   "outputs": [
    {
     "data": {
      "text/html": [
       "<div>\n",
       "<style scoped>\n",
       "    .dataframe tbody tr th:only-of-type {\n",
       "        vertical-align: middle;\n",
       "    }\n",
       "\n",
       "    .dataframe tbody tr th {\n",
       "        vertical-align: top;\n",
       "    }\n",
       "\n",
       "    .dataframe thead th {\n",
       "        text-align: right;\n",
       "    }\n",
       "</style>\n",
       "<table border=\"1\" class=\"dataframe\">\n",
       "  <thead>\n",
       "    <tr style=\"text-align: right;\">\n",
       "      <th></th>\n",
       "      <th>Name</th>\n",
       "      <th>Sex</th>\n",
       "      <th>Ticket</th>\n",
       "      <th>Cabin</th>\n",
       "      <th>Embarked</th>\n",
       "    </tr>\n",
       "  </thead>\n",
       "  <tbody>\n",
       "    <tr>\n",
       "      <th>count</th>\n",
       "      <td>1309</td>\n",
       "      <td>1309</td>\n",
       "      <td>1309</td>\n",
       "      <td>295</td>\n",
       "      <td>1307</td>\n",
       "    </tr>\n",
       "    <tr>\n",
       "      <th>unique</th>\n",
       "      <td>1307</td>\n",
       "      <td>2</td>\n",
       "      <td>929</td>\n",
       "      <td>186</td>\n",
       "      <td>3</td>\n",
       "    </tr>\n",
       "    <tr>\n",
       "      <th>top</th>\n",
       "      <td>Connolly, Miss. Kate</td>\n",
       "      <td>male</td>\n",
       "      <td>CA. 2343</td>\n",
       "      <td>C23 C25 C27</td>\n",
       "      <td>S</td>\n",
       "    </tr>\n",
       "    <tr>\n",
       "      <th>freq</th>\n",
       "      <td>2</td>\n",
       "      <td>843</td>\n",
       "      <td>11</td>\n",
       "      <td>6</td>\n",
       "      <td>914</td>\n",
       "    </tr>\n",
       "  </tbody>\n",
       "</table>\n",
       "</div>"
      ],
      "text/plain": [
       "                        Name   Sex    Ticket        Cabin Embarked\n",
       "count                   1309  1309      1309          295     1307\n",
       "unique                  1307     2       929          186        3\n",
       "top     Connolly, Miss. Kate  male  CA. 2343  C23 C25 C27        S\n",
       "freq                       2   843        11            6      914"
      ]
     },
     "execution_count": 7,
     "metadata": {},
     "output_type": "execute_result"
    }
   ],
   "source": [
    "df.describe(include='O')"
   ]
  },
  {
   "cell_type": "markdown",
   "metadata": {
    "papermill": {
     "duration": 0.069004,
     "end_time": "2020-11-17T08:15:23.426479",
     "exception": false,
     "start_time": "2020-11-17T08:15:23.357475",
     "status": "completed"
    },
    "tags": []
   },
   "source": [
    "## Target: Survived\n",
    "約有38%的人存活"
   ]
  },
  {
   "cell_type": "code",
   "execution_count": 8,
   "metadata": {
    "execution": {
     "iopub.execute_input": "2020-11-17T08:15:23.579716Z",
     "iopub.status.busy": "2020-11-17T08:15:23.573112Z",
     "iopub.status.idle": "2020-11-17T08:15:23.745086Z",
     "shell.execute_reply": "2020-11-17T08:15:23.744358Z"
    },
    "papermill": {
     "duration": 0.249519,
     "end_time": "2020-11-17T08:15:23.745217",
     "exception": false,
     "start_time": "2020-11-17T08:15:23.495698",
     "status": "completed"
    },
    "tags": []
   },
   "outputs": [
    {
     "data": {
      "text/html": [
       "<div>\n",
       "<style scoped>\n",
       "    .dataframe tbody tr th:only-of-type {\n",
       "        vertical-align: middle;\n",
       "    }\n",
       "\n",
       "    .dataframe tbody tr th {\n",
       "        vertical-align: top;\n",
       "    }\n",
       "\n",
       "    .dataframe thead th {\n",
       "        text-align: right;\n",
       "    }\n",
       "</style>\n",
       "<table border=\"1\" class=\"dataframe\">\n",
       "  <thead>\n",
       "    <tr style=\"text-align: right;\">\n",
       "      <th></th>\n",
       "      <th>counts</th>\n",
       "      <th>%</th>\n",
       "    </tr>\n",
       "  </thead>\n",
       "  <tbody>\n",
       "    <tr>\n",
       "      <th>0.0</th>\n",
       "      <td>549</td>\n",
       "      <td>0.616162</td>\n",
       "    </tr>\n",
       "    <tr>\n",
       "      <th>1.0</th>\n",
       "      <td>342</td>\n",
       "      <td>0.383838</td>\n",
       "    </tr>\n",
       "  </tbody>\n",
       "</table>\n",
       "</div>"
      ],
      "text/plain": [
       "     counts         %\n",
       "0.0     549  0.616162\n",
       "1.0     342  0.383838"
      ]
     },
     "metadata": {},
     "output_type": "display_data"
    },
    {
     "data": {
      "image/png": "[encoded data removed]",
      "text/plain": [
       "<Figure size 432x288 with 1 Axes>"
      ]
     },
     "metadata": {
      "needs_background": "light"
     },
     "output_type": "display_data"
    }
   ],
   "source": [
    "sns.countplot(x='Survived', data=df)\n",
    "display(pd.concat([df['Survived'].value_counts(), df['Survived'].value_counts(normalize=True)], axis=1, keys=['counts', '%']))"
   ]
  },
  {
   "cell_type": "code",
   "execution_count": 9,
   "metadata": {
    "execution": {
     "iopub.execute_input": "2020-11-17T08:15:23.896586Z",
     "iopub.status.busy": "2020-11-17T08:15:23.895845Z",
     "iopub.status.idle": "2020-11-17T08:15:23.898313Z",
     "shell.execute_reply": "2020-11-17T08:15:23.899036Z"
    },
    "papermill": {
     "duration": 0.08303,
     "end_time": "2020-11-17T08:15:23.899200",
     "exception": false,
     "start_time": "2020-11-17T08:15:23.816170",
     "status": "completed"
    },
    "tags": []
   },
   "outputs": [],
   "source": [
    "def countplot_percent(feature, data=df):\n",
    "    '''Plot countplot with percentage of each category.'''\n",
    "    total = data.shape[0]\n",
    "    ax = sns.countplot(x=feature, data=data)\n",
    "    for p in ax.patches:\n",
    "        percentage = '{:.2f}%'.format(100 * p.get_height()/total)\n",
    "        x = p.get_x()\n",
    "        y = p.get_height() + 0.02\n",
    "        ax.annotate(percentage, (x, y), size = 10)\n",
    "    plt.show()"
   ]
  },
  {
   "cell_type": "markdown",
   "metadata": {
    "papermill": {
     "duration": 0.070743,
     "end_time": "2020-11-17T08:15:24.041177",
     "exception": false,
     "start_time": "2020-11-17T08:15:23.970434",
     "status": "completed"
    },
    "tags": []
   },
   "source": [
    "# EDA\n",
    "## Pclass\n",
    "* 有三種艙等，艙等1最高級，票價最貴，再過來是艙等2、最後是艙等3\n",
    "* 艙等3的人最多\n",
    "* 艙等較高，生存率也較高"
   ]
  },
  {
   "cell_type": "code",
   "execution_count": 10,
   "metadata": {
    "execution": {
     "iopub.execute_input": "2020-11-17T08:15:24.238513Z",
     "iopub.status.busy": "2020-11-17T08:15:24.223175Z",
     "iopub.status.idle": "2020-11-17T08:15:24.362992Z",
     "shell.execute_reply": "2020-11-17T08:15:24.363580Z"
    },
    "papermill": {
     "duration": 0.2395,
     "end_time": "2020-11-17T08:15:24.363741",
     "exception": false,
     "start_time": "2020-11-17T08:15:24.124241",
     "status": "completed"
    },
    "tags": []
   },
   "outputs": [
    {
     "data": {
      "text/plain": [
       "<matplotlib.axes._subplots.AxesSubplot at 0x7ff4225cf590>"
      ]
     },
     "execution_count": 10,
     "metadata": {},
     "output_type": "execute_result"
    },
    {
     "data": {
      "image/png": "[encoded data removed]",
      "text/plain": [
       "<Figure size 432x288 with 1 Axes>"
      ]
     },
     "metadata": {
      "needs_background": "light"
     },
     "output_type": "display_data"
    }
   ],
   "source": [
    "sns.countplot(x='Pclass', data=df)"
   ]
  },
  {
   "cell_type": "code",
   "execution_count": 11,
   "metadata": {
    "execution": {
     "iopub.execute_input": "2020-11-17T08:15:24.522637Z",
     "iopub.status.busy": "2020-11-17T08:15:24.520883Z",
     "iopub.status.idle": "2020-11-17T08:15:24.791125Z",
     "shell.execute_reply": "2020-11-17T08:15:24.790541Z"
    },
    "papermill": {
     "duration": 0.354156,
     "end_time": "2020-11-17T08:15:24.791255",
     "exception": false,
     "start_time": "2020-11-17T08:15:24.437099",
     "status": "completed"
    },
    "tags": []
   },
   "outputs": [
    {
     "data": {
      "text/plain": [
       "<matplotlib.axes._subplots.AxesSubplot at 0x7ff422541350>"
      ]
     },
     "execution_count": 11,
     "metadata": {},
     "output_type": "execute_result"
    },
    {
     "data": {
      "image/png": "[encoded data removed]",
      "text/plain": [
       "<Figure size 432x288 with 1 Axes>"
      ]
     },
     "metadata": {
      "needs_background": "light"
     },
     "output_type": "display_data"
    }
   ],
   "source": [
    "sns.barplot(x='Pclass', y='Survived', data=df)"
   ]
  },
  {
   "cell_type": "code",
   "execution_count": 12,
   "metadata": {
    "execution": {
     "iopub.execute_input": "2020-11-17T08:15:24.954162Z",
     "iopub.status.busy": "2020-11-17T08:15:24.948198Z",
     "iopub.status.idle": "2020-11-17T08:15:25.110941Z",
     "shell.execute_reply": "2020-11-17T08:15:25.110207Z"
    },
    "papermill": {
     "duration": 0.246061,
     "end_time": "2020-11-17T08:15:25.111064",
     "exception": false,
     "start_time": "2020-11-17T08:15:24.865003",
     "status": "completed"
    },
    "tags": []
   },
   "outputs": [
    {
     "data": {
      "text/plain": [
       "<matplotlib.axes._subplots.AxesSubplot at 0x7ff4224bddd0>"
      ]
     },
     "execution_count": 12,
     "metadata": {},
     "output_type": "execute_result"
    },
    {
     "data": {
      "image/png": "[encoded data removed]",
      "text/plain": [
       "<Figure size 432x288 with 1 Axes>"
      ]
     },
     "metadata": {
      "needs_background": "light"
     },
     "output_type": "display_data"
    }
   ],
   "source": [
    "sns.boxplot(x='Pclass', y='Fare', data=df)"
   ]
  },
  {
   "cell_type": "markdown",
   "metadata": {
    "papermill": {
     "duration": 0.076427,
     "end_time": "2020-11-17T08:15:25.263962",
     "exception": false,
     "start_time": "2020-11-17T08:15:25.187535",
     "status": "completed"
    },
    "tags": []
   },
   "source": [
    "## Sex\n",
    "* 男性約占64%\n",
    "* 女性的生存率在各個艙等皆高於男性"
   ]
  },
  {
   "cell_type": "code",
   "execution_count": 13,
   "metadata": {
    "execution": {
     "iopub.execute_input": "2020-11-17T08:15:25.433545Z",
     "iopub.status.busy": "2020-11-17T08:15:25.421207Z",
     "iopub.status.idle": "2020-11-17T08:15:25.556315Z",
     "shell.execute_reply": "2020-11-17T08:15:25.555648Z"
    },
    "papermill": {
     "duration": 0.217091,
     "end_time": "2020-11-17T08:15:25.556448",
     "exception": false,
     "start_time": "2020-11-17T08:15:25.339357",
     "status": "completed"
    },
    "tags": []
   },
   "outputs": [
    {
     "data": {
      "image/png": "[encoded data removed]",
      "text/plain": [
       "<Figure size 432x288 with 1 Axes>"
      ]
     },
     "metadata": {
      "needs_background": "light"
     },
     "output_type": "display_data"
    }
   ],
   "source": [
    "countplot_percent('Sex')"
   ]
  },
  {
   "cell_type": "code",
   "execution_count": 14,
   "metadata": {
    "execution": {
     "iopub.execute_input": "2020-11-17T08:15:25.716566Z",
     "iopub.status.busy": "2020-11-17T08:15:25.715742Z",
     "iopub.status.idle": "2020-11-17T08:15:25.941170Z",
     "shell.execute_reply": "2020-11-17T08:15:25.941684Z"
    },
    "papermill": {
     "duration": 0.309424,
     "end_time": "2020-11-17T08:15:25.941851",
     "exception": false,
     "start_time": "2020-11-17T08:15:25.632427",
     "status": "completed"
    },
    "tags": []
   },
   "outputs": [
    {
     "data": {
      "text/plain": [
       "<matplotlib.axes._subplots.AxesSubplot at 0x7ff4223b9a50>"
      ]
     },
     "execution_count": 14,
     "metadata": {},
     "output_type": "execute_result"
    },
    {
     "data": {
      "image/png": "[encoded data removed]",
      "text/plain": [
       "<Figure size 432x288 with 1 Axes>"
      ]
     },
     "metadata": {
      "needs_background": "light"
     },
     "output_type": "display_data"
    }
   ],
   "source": [
    "sns.barplot(x='Sex', y='Survived', data=df)"
   ]
  },
  {
   "cell_type": "code",
   "execution_count": 15,
   "metadata": {
    "execution": {
     "iopub.execute_input": "2020-11-17T08:15:26.112153Z",
     "iopub.status.busy": "2020-11-17T08:15:26.107942Z",
     "iopub.status.idle": "2020-11-17T08:15:26.545884Z",
     "shell.execute_reply": "2020-11-17T08:15:26.545180Z"
    },
    "papermill": {
     "duration": 0.526636,
     "end_time": "2020-11-17T08:15:26.546031",
     "exception": false,
     "start_time": "2020-11-17T08:15:26.019395",
     "status": "completed"
    },
    "tags": []
   },
   "outputs": [
    {
     "data": {
      "text/plain": [
       "<matplotlib.axes._subplots.AxesSubplot at 0x7ff4223a5910>"
      ]
     },
     "execution_count": 15,
     "metadata": {},
     "output_type": "execute_result"
    },
    {
     "data": {
      "image/png": "[encoded data removed]",
      "text/plain": [
       "<Figure size 432x288 with 1 Axes>"
      ]
     },
     "metadata": {
      "needs_background": "light"
     },
     "output_type": "display_data"
    }
   ],
   "source": [
    "sns.barplot(x='Pclass', y='Survived', hue='Sex', data=df)"
   ]
  },
  {
   "cell_type": "markdown",
   "metadata": {
    "papermill": {
     "duration": 0.078291,
     "end_time": "2020-11-17T08:15:26.703150",
     "exception": false,
     "start_time": "2020-11-17T08:15:26.624859",
     "status": "completed"
    },
    "tags": []
   },
   "source": [
    "## Age\n",
    "由分佈圖可看出，較年輕的乘客(約<15歲)較有可能存活，逃亡時可能禮讓小孩、女性"
   ]
  },
  {
   "cell_type": "code",
   "execution_count": 16,
   "metadata": {
    "execution": {
     "iopub.execute_input": "2020-11-17T08:15:26.871958Z",
     "iopub.status.busy": "2020-11-17T08:15:26.870826Z",
     "iopub.status.idle": "2020-11-17T08:15:26.994751Z",
     "shell.execute_reply": "2020-11-17T08:15:26.995471Z"
    },
    "papermill": {
     "duration": 0.214008,
     "end_time": "2020-11-17T08:15:26.995668",
     "exception": false,
     "start_time": "2020-11-17T08:15:26.781660",
     "status": "completed"
    },
    "tags": []
   },
   "outputs": [
    {
     "data": {
      "text/plain": [
       "<matplotlib.axes._subplots.AxesSubplot at 0x7ff4222b9b50>"
      ]
     },
     "execution_count": 16,
     "metadata": {},
     "output_type": "execute_result"
    },
    {
     "data": {
      "image/png": "[encoded data removed]",
      "text/plain": [
       "<Figure size 432x288 with 1 Axes>"
      ]
     },
     "metadata": {
      "needs_background": "light"
     },
     "output_type": "display_data"
    }
   ],
   "source": [
    "sns.boxplot(df['Age'])"
   ]
  },
  {
   "cell_type": "code",
   "execution_count": 17,
   "metadata": {
    "execution": {
     "iopub.execute_input": "2020-11-17T08:15:27.168566Z",
     "iopub.status.busy": "2020-11-17T08:15:27.167826Z",
     "iopub.status.idle": "2020-11-17T08:15:27.377898Z",
     "shell.execute_reply": "2020-11-17T08:15:27.377204Z"
    },
    "papermill": {
     "duration": 0.302077,
     "end_time": "2020-11-17T08:15:27.378080",
     "exception": false,
     "start_time": "2020-11-17T08:15:27.076003",
     "status": "completed"
    },
    "tags": []
   },
   "outputs": [
    {
     "data": {
      "image/png": "[encoded data removed]",
      "text/plain": [
       "<Figure size 720x360 with 1 Axes>"
      ]
     },
     "metadata": {
      "needs_background": "light"
     },
     "output_type": "display_data"
    }
   ],
   "source": [
    "# Age distribution of pepple who survived/did not survive\n",
    "plt.figure(figsize=(10,5))\n",
    "sns.distplot(df.loc[(df['Age'].notnull()) & (df['Survived']==1), 'Age'], hist=False, label='Alive').set_xticks(range(0,85,5))\n",
    "sns.distplot(df.loc[(df['Age'].notnull()) & (df['Survived']==0), 'Age'], hist=False, label='Dead').set_xticks(range(0,85,5))\n",
    "plt.show()"
   ]
  },
  {
   "cell_type": "markdown",
   "metadata": {
    "papermill": {
     "duration": 0.081433,
     "end_time": "2020-11-17T08:15:27.541494",
     "exception": false,
     "start_time": "2020-11-17T08:15:27.460061",
     "status": "completed"
    },
    "tags": []
   },
   "source": [
    "## SibSp & Parch\n",
    "* SibSp=兄弟姊妹+配偶數量；Parch=父母+小孩數量\n",
    "* 大部分的人沒有跟兄弟姊妹/配偶來；大部分的人沒有跟父母/小孩來\n",
    "* 跟多個(>=3)個兄弟姊妹/配偶來的人生存率較低，沒有跟兄弟姊妹/配偶來的人以及跟1~2位兄弟姊妹/配偶來的人較有可能生存\n",
    "* 跟多個(>=4)個父母/小孩來的人生存率較低，沒有跟父母/小孩來的人以及跟1~3位父母/小孩來的人較有可能生存"
   ]
  },
  {
   "cell_type": "code",
   "execution_count": 18,
   "metadata": {
    "execution": {
     "iopub.execute_input": "2020-11-17T08:15:27.720799Z",
     "iopub.status.busy": "2020-11-17T08:15:27.712039Z",
     "iopub.status.idle": "2020-11-17T08:15:28.007066Z",
     "shell.execute_reply": "2020-11-17T08:15:28.006308Z"
    },
    "papermill": {
     "duration": 0.38393,
     "end_time": "2020-11-17T08:15:28.007192",
     "exception": false,
     "start_time": "2020-11-17T08:15:27.623262",
     "status": "completed"
    },
    "tags": []
   },
   "outputs": [
    {
     "data": {
      "text/plain": [
       "<matplotlib.axes._subplots.AxesSubplot at 0x7ff422182bd0>"
      ]
     },
     "execution_count": 18,
     "metadata": {},
     "output_type": "execute_result"
    },
    {
     "data": {
      "image/png": "[encoded data removed]",
      "text/plain": [
       "<Figure size 720x360 with 2 Axes>"
      ]
     },
     "metadata": {
      "needs_background": "light"
     },
     "output_type": "display_data"
    }
   ],
   "source": [
    "f, axes = plt.subplots(1, 2, figsize=(10, 5))\n",
    "sns.countplot(df['SibSp'], ax=axes[0])\n",
    "sns.countplot(df['Parch'], ax=axes[1])"
   ]
  },
  {
   "cell_type": "code",
   "execution_count": 19,
   "metadata": {
    "execution": {
     "iopub.execute_input": "2020-11-17T08:15:28.187600Z",
     "iopub.status.busy": "2020-11-17T08:15:28.186846Z",
     "iopub.status.idle": "2020-11-17T08:15:29.062064Z",
     "shell.execute_reply": "2020-11-17T08:15:29.061324Z"
    },
    "papermill": {
     "duration": 0.97152,
     "end_time": "2020-11-17T08:15:29.062187",
     "exception": false,
     "start_time": "2020-11-17T08:15:28.090667",
     "status": "completed"
    },
    "tags": []
   },
   "outputs": [
    {
     "data": {
      "text/plain": [
       "<matplotlib.axes._subplots.AxesSubplot at 0x7ff422078310>"
      ]
     },
     "execution_count": 19,
     "metadata": {},
     "output_type": "execute_result"
    },
    {
     "data": {
      "image/png": "[encoded data removed]",
      "text/plain": [
       "<Figure size 720x360 with 2 Axes>"
      ]
     },
     "metadata": {
      "needs_background": "light"
     },
     "output_type": "display_data"
    }
   ],
   "source": [
    "f, axes = plt.subplots(1, 2, figsize=(10, 5))\n",
    "sns.barplot(x='SibSp', y='Survived', data=df, ax=axes[0])\n",
    "sns.barplot(x='Parch', y='Survived', data=df, ax=axes[1])"
   ]
  },
  {
   "cell_type": "markdown",
   "metadata": {
    "papermill": {
     "duration": 0.084739,
     "end_time": "2020-11-17T08:15:29.232812",
     "exception": false,
     "start_time": "2020-11-17T08:15:29.148073",
     "status": "completed"
    },
    "tags": []
   },
   "source": [
    "## Fare\n",
    "* 有少數票價特別高\n",
    "* 票價較低的乘客，生存率較低，同Pclass"
   ]
  },
  {
   "cell_type": "code",
   "execution_count": 20,
   "metadata": {
    "execution": {
     "iopub.execute_input": "2020-11-17T08:15:29.416664Z",
     "iopub.status.busy": "2020-11-17T08:15:29.414521Z",
     "iopub.status.idle": "2020-11-17T08:15:29.625882Z",
     "shell.execute_reply": "2020-11-17T08:15:29.626423Z"
    },
    "papermill": {
     "duration": 0.307695,
     "end_time": "2020-11-17T08:15:29.626583",
     "exception": false,
     "start_time": "2020-11-17T08:15:29.318888",
     "status": "completed"
    },
    "tags": []
   },
   "outputs": [
    {
     "data": {
      "text/plain": [
       "<matplotlib.axes._subplots.AxesSubplot at 0x7ff422150a90>"
      ]
     },
     "execution_count": 20,
     "metadata": {},
     "output_type": "execute_result"
    },
    {
     "data": {
      "image/png": "[encoded data removed]",
      "text/plain": [
       "<Figure size 432x288 with 1 Axes>"
      ]
     },
     "metadata": {
      "needs_background": "light"
     },
     "output_type": "display_data"
    }
   ],
   "source": [
    "# 票價分佈很廣且傾斜，有很低的也有很高的\n",
    "sns.boxplot(df['Fare'])"
   ]
  },
  {
   "cell_type": "code",
   "execution_count": 21,
   "metadata": {
    "execution": {
     "iopub.execute_input": "2020-11-17T08:15:29.810499Z",
     "iopub.status.busy": "2020-11-17T08:15:29.806347Z",
     "iopub.status.idle": "2020-11-17T08:15:30.207671Z",
     "shell.execute_reply": "2020-11-17T08:15:30.206978Z"
    },
    "papermill": {
     "duration": 0.494931,
     "end_time": "2020-11-17T08:15:30.207787",
     "exception": false,
     "start_time": "2020-11-17T08:15:29.712856",
     "status": "completed"
    },
    "tags": []
   },
   "outputs": [
    {
     "data": {
      "text/plain": [
       "<seaborn.axisgrid.FacetGrid at 0x7ff42210b250>"
      ]
     },
     "execution_count": 21,
     "metadata": {},
     "output_type": "execute_result"
    },
    {
     "data": {
      "image/png": "[encoded data removed]",
      "text/plain": [
       "<Figure size 432x216 with 2 Axes>"
      ]
     },
     "metadata": {
      "needs_background": "light"
     },
     "output_type": "display_data"
    }
   ],
   "source": [
    "g = sns.FacetGrid(df, col='Survived')\n",
    "g.map(plt.hist, 'Fare')"
   ]
  },
  {
   "cell_type": "markdown",
   "metadata": {
    "papermill": {
     "duration": 0.088137,
     "end_time": "2020-11-17T08:15:30.384743",
     "exception": false,
     "start_time": "2020-11-17T08:15:30.296606",
     "status": "completed"
    },
    "tags": []
   },
   "source": [
    "## Embarked\n",
    "* 約72%的人在S港口登船\n",
    "* C港口生存率較高，可能跟C港口登船的人買的票價較高有關"
   ]
  },
  {
   "cell_type": "code",
   "execution_count": 22,
   "metadata": {
    "execution": {
     "iopub.execute_input": "2020-11-17T08:15:30.580722Z",
     "iopub.status.busy": "2020-11-17T08:15:30.578386Z",
     "iopub.status.idle": "2020-11-17T08:15:30.695943Z",
     "shell.execute_reply": "2020-11-17T08:15:30.695330Z"
    },
    "papermill": {
     "duration": 0.223805,
     "end_time": "2020-11-17T08:15:30.696076",
     "exception": false,
     "start_time": "2020-11-17T08:15:30.472271",
     "status": "completed"
    },
    "tags": []
   },
   "outputs": [
    {
     "data": {
      "image/png": "[encoded data removed]",
      "text/plain": [
       "<Figure size 432x288 with 1 Axes>"
      ]
     },
     "metadata": {
      "needs_background": "light"
     },
     "output_type": "display_data"
    }
   ],
   "source": [
    "countplot_percent('Embarked')"
   ]
  },
  {
   "cell_type": "code",
   "execution_count": 23,
   "metadata": {
    "execution": {
     "iopub.execute_input": "2020-11-17T08:15:30.885595Z",
     "iopub.status.busy": "2020-11-17T08:15:30.884873Z",
     "iopub.status.idle": "2020-11-17T08:15:31.147407Z",
     "shell.execute_reply": "2020-11-17T08:15:31.146668Z"
    },
    "papermill": {
     "duration": 0.363252,
     "end_time": "2020-11-17T08:15:31.147527",
     "exception": false,
     "start_time": "2020-11-17T08:15:30.784275",
     "status": "completed"
    },
    "tags": []
   },
   "outputs": [
    {
     "data": {
      "text/plain": [
       "<matplotlib.axes._subplots.AxesSubplot at 0x7ff4225c4b50>"
      ]
     },
     "execution_count": 23,
     "metadata": {},
     "output_type": "execute_result"
    },
    {
     "data": {
      "image/png": "[encoded data removed]",
      "text/plain": [
       "<Figure size 432x288 with 1 Axes>"
      ]
     },
     "metadata": {
      "needs_background": "light"
     },
     "output_type": "display_data"
    }
   ],
   "source": [
    "sns.barplot(x='Embarked', y='Survived', data=df)"
   ]
  },
  {
   "cell_type": "code",
   "execution_count": 24,
   "metadata": {
    "execution": {
     "iopub.execute_input": "2020-11-17T08:15:31.342661Z",
     "iopub.status.busy": "2020-11-17T08:15:31.336268Z",
     "iopub.status.idle": "2020-11-17T08:15:31.499161Z",
     "shell.execute_reply": "2020-11-17T08:15:31.498434Z"
    },
    "papermill": {
     "duration": 0.261763,
     "end_time": "2020-11-17T08:15:31.499284",
     "exception": false,
     "start_time": "2020-11-17T08:15:31.237521",
     "status": "completed"
    },
    "tags": []
   },
   "outputs": [
    {
     "data": {
      "text/plain": [
       "<matplotlib.axes._subplots.AxesSubplot at 0x7ff421f14210>"
      ]
     },
     "execution_count": 24,
     "metadata": {},
     "output_type": "execute_result"
    },
    {
     "data": {
      "image/png": "[encoded data removed]",
      "text/plain": [
       "<Figure size 432x288 with 1 Axes>"
      ]
     },
     "metadata": {
      "needs_background": "light"
     },
     "output_type": "display_data"
    }
   ],
   "source": [
    "sns.boxplot(x='Fare', y='Embarked', data=train)"
   ]
  },
  {
   "cell_type": "markdown",
   "metadata": {
    "papermill": {
     "duration": 0.090273,
     "end_time": "2020-11-17T08:15:31.680453",
     "exception": false,
     "start_time": "2020-11-17T08:15:31.590180",
     "status": "completed"
    },
    "tags": []
   },
   "source": [
    "## Feature engineering\n",
    "### Title\n",
    "從Name中可以發現有稱謂(Mr., Mrs., Master, Miss, etc.)，將稱謂萃取出來\n",
    "* Title: extract title from name\n",
    "* Mrs, Miss, Master生存率較高，Master平均年齡為5歲，推斷逃難時禮讓婦女小孩\n",
    "* 除了Mr, Mrs, Miss, Master，其他Title數量非常少，將其依性別與其他類別合併"
   ]
  },
  {
   "cell_type": "code",
   "execution_count": 25,
   "metadata": {
    "execution": {
     "iopub.execute_input": "2020-11-17T08:15:31.869105Z",
     "iopub.status.busy": "2020-11-17T08:15:31.868009Z",
     "iopub.status.idle": "2020-11-17T08:15:31.872925Z",
     "shell.execute_reply": "2020-11-17T08:15:31.872273Z"
    },
    "papermill": {
     "duration": 0.102078,
     "end_time": "2020-11-17T08:15:31.873052",
     "exception": false,
     "start_time": "2020-11-17T08:15:31.770974",
     "status": "completed"
    },
    "tags": []
   },
   "outputs": [
    {
     "data": {
      "text/plain": [
       "0                              Braund, Mr. Owen Harris\n",
       "1    Cumings, Mrs. John Bradley (Florence Briggs Th...\n",
       "2                               Heikkinen, Miss. Laina\n",
       "3         Futrelle, Mrs. Jacques Heath (Lily May Peel)\n",
       "4                             Allen, Mr. William Henry\n",
       "Name: Name, dtype: object"
      ]
     },
     "execution_count": 25,
     "metadata": {},
     "output_type": "execute_result"
    }
   ],
   "source": [
    "df['Name'].head()"
   ]
  },
  {
   "cell_type": "code",
   "execution_count": 26,
   "metadata": {
    "execution": {
     "iopub.execute_input": "2020-11-17T08:15:32.120217Z",
     "iopub.status.busy": "2020-11-17T08:15:32.119269Z",
     "iopub.status.idle": "2020-11-17T08:15:32.124170Z",
     "shell.execute_reply": "2020-11-17T08:15:32.123455Z"
    },
    "papermill": {
     "duration": 0.159894,
     "end_time": "2020-11-17T08:15:32.124299",
     "exception": false,
     "start_time": "2020-11-17T08:15:31.964405",
     "status": "completed"
    },
    "tags": []
   },
   "outputs": [
    {
     "data": {
      "text/plain": [
       "0      Mr\n",
       "1     Mrs\n",
       "2    Miss\n",
       "3     Mrs\n",
       "4      Mr\n",
       "Name: Title, dtype: object"
      ]
     },
     "execution_count": 26,
     "metadata": {},
     "output_type": "execute_result"
    }
   ],
   "source": [
    "df['Title'] = df['Name'].str.split(', ')\n",
    "df['Title'] = df['Title'].map(lambda x: str(x[1]).split('.')[0])\n",
    "df['Title'].head()"
   ]
  },
  {
   "cell_type": "code",
   "execution_count": 27,
   "metadata": {
    "execution": {
     "iopub.execute_input": "2020-11-17T08:15:32.322083Z",
     "iopub.status.busy": "2020-11-17T08:15:32.320978Z",
     "iopub.status.idle": "2020-11-17T08:15:32.648388Z",
     "shell.execute_reply": "2020-11-17T08:15:32.647726Z"
    },
    "papermill": {
     "duration": 0.430539,
     "end_time": "2020-11-17T08:15:32.648513",
     "exception": false,
     "start_time": "2020-11-17T08:15:32.217974",
     "status": "completed"
    },
    "tags": []
   },
   "outputs": [
    {
     "data": {
      "image/png": "[encoded data removed]",
      "text/plain": [
       "<Figure size 1440x360 with 1 Axes>"
      ]
     },
     "metadata": {
      "needs_background": "light"
     },
     "output_type": "display_data"
    }
   ],
   "source": [
    "plt.figure(figsize=(20, 5))\n",
    "sns.countplot(x='Title', hue='Survived', data=df)\n",
    "plt.legend(loc='upper right')\n",
    "plt.show()"
   ]
  },
  {
   "cell_type": "code",
   "execution_count": 28,
   "metadata": {
    "execution": {
     "iopub.execute_input": "2020-11-17T08:15:32.867173Z",
     "iopub.status.busy": "2020-11-17T08:15:32.861545Z",
     "iopub.status.idle": "2020-11-17T08:15:32.932225Z",
     "shell.execute_reply": "2020-11-17T08:15:32.931529Z"
    },
    "papermill": {
     "duration": 0.186883,
     "end_time": "2020-11-17T08:15:32.932359",
     "exception": false,
     "start_time": "2020-11-17T08:15:32.745476",
     "status": "completed"
    },
    "tags": []
   },
   "outputs": [
    {
     "data": {
      "text/html": [
       "<div>\n",
       "<style scoped>\n",
       "    .dataframe tbody tr th:only-of-type {\n",
       "        vertical-align: middle;\n",
       "    }\n",
       "\n",
       "    .dataframe tbody tr th {\n",
       "        vertical-align: top;\n",
       "    }\n",
       "\n",
       "    .dataframe thead th {\n",
       "        text-align: right;\n",
       "    }\n",
       "</style>\n",
       "<table border=\"1\" class=\"dataframe\">\n",
       "  <thead>\n",
       "    <tr style=\"text-align: right;\">\n",
       "      <th></th>\n",
       "      <th>count</th>\n",
       "      <th>mean</th>\n",
       "      <th>std</th>\n",
       "      <th>min</th>\n",
       "      <th>25%</th>\n",
       "      <th>50%</th>\n",
       "      <th>75%</th>\n",
       "      <th>max</th>\n",
       "    </tr>\n",
       "    <tr>\n",
       "      <th>Title</th>\n",
       "      <th></th>\n",
       "      <th></th>\n",
       "      <th></th>\n",
       "      <th></th>\n",
       "      <th></th>\n",
       "      <th></th>\n",
       "      <th></th>\n",
       "      <th></th>\n",
       "    </tr>\n",
       "  </thead>\n",
       "  <tbody>\n",
       "    <tr>\n",
       "      <th>Capt</th>\n",
       "      <td>1.0</td>\n",
       "      <td>70.000000</td>\n",
       "      <td>NaN</td>\n",
       "      <td>70.00</td>\n",
       "      <td>70.00</td>\n",
       "      <td>70.0</td>\n",
       "      <td>70.00</td>\n",
       "      <td>70.0</td>\n",
       "    </tr>\n",
       "    <tr>\n",
       "      <th>Col</th>\n",
       "      <td>4.0</td>\n",
       "      <td>54.000000</td>\n",
       "      <td>5.477226</td>\n",
       "      <td>47.00</td>\n",
       "      <td>51.50</td>\n",
       "      <td>54.5</td>\n",
       "      <td>57.00</td>\n",
       "      <td>60.0</td>\n",
       "    </tr>\n",
       "    <tr>\n",
       "      <th>Don</th>\n",
       "      <td>1.0</td>\n",
       "      <td>40.000000</td>\n",
       "      <td>NaN</td>\n",
       "      <td>40.00</td>\n",
       "      <td>40.00</td>\n",
       "      <td>40.0</td>\n",
       "      <td>40.00</td>\n",
       "      <td>40.0</td>\n",
       "    </tr>\n",
       "    <tr>\n",
       "      <th>Dona</th>\n",
       "      <td>1.0</td>\n",
       "      <td>39.000000</td>\n",
       "      <td>NaN</td>\n",
       "      <td>39.00</td>\n",
       "      <td>39.00</td>\n",
       "      <td>39.0</td>\n",
       "      <td>39.00</td>\n",
       "      <td>39.0</td>\n",
       "    </tr>\n",
       "    <tr>\n",
       "      <th>Dr</th>\n",
       "      <td>7.0</td>\n",
       "      <td>43.571429</td>\n",
       "      <td>11.731115</td>\n",
       "      <td>23.00</td>\n",
       "      <td>38.00</td>\n",
       "      <td>49.0</td>\n",
       "      <td>51.50</td>\n",
       "      <td>54.0</td>\n",
       "    </tr>\n",
       "    <tr>\n",
       "      <th>Jonkheer</th>\n",
       "      <td>1.0</td>\n",
       "      <td>38.000000</td>\n",
       "      <td>NaN</td>\n",
       "      <td>38.00</td>\n",
       "      <td>38.00</td>\n",
       "      <td>38.0</td>\n",
       "      <td>38.00</td>\n",
       "      <td>38.0</td>\n",
       "    </tr>\n",
       "    <tr>\n",
       "      <th>Lady</th>\n",
       "      <td>1.0</td>\n",
       "      <td>48.000000</td>\n",
       "      <td>NaN</td>\n",
       "      <td>48.00</td>\n",
       "      <td>48.00</td>\n",
       "      <td>48.0</td>\n",
       "      <td>48.00</td>\n",
       "      <td>48.0</td>\n",
       "    </tr>\n",
       "    <tr>\n",
       "      <th>Major</th>\n",
       "      <td>2.0</td>\n",
       "      <td>48.500000</td>\n",
       "      <td>4.949747</td>\n",
       "      <td>45.00</td>\n",
       "      <td>46.75</td>\n",
       "      <td>48.5</td>\n",
       "      <td>50.25</td>\n",
       "      <td>52.0</td>\n",
       "    </tr>\n",
       "    <tr>\n",
       "      <th>Master</th>\n",
       "      <td>53.0</td>\n",
       "      <td>5.482642</td>\n",
       "      <td>4.161554</td>\n",
       "      <td>0.33</td>\n",
       "      <td>2.00</td>\n",
       "      <td>4.0</td>\n",
       "      <td>9.00</td>\n",
       "      <td>14.5</td>\n",
       "    </tr>\n",
       "    <tr>\n",
       "      <th>Miss</th>\n",
       "      <td>210.0</td>\n",
       "      <td>21.774238</td>\n",
       "      <td>12.249077</td>\n",
       "      <td>0.17</td>\n",
       "      <td>15.00</td>\n",
       "      <td>22.0</td>\n",
       "      <td>30.00</td>\n",
       "      <td>63.0</td>\n",
       "    </tr>\n",
       "    <tr>\n",
       "      <th>Mlle</th>\n",
       "      <td>2.0</td>\n",
       "      <td>24.000000</td>\n",
       "      <td>0.000000</td>\n",
       "      <td>24.00</td>\n",
       "      <td>24.00</td>\n",
       "      <td>24.0</td>\n",
       "      <td>24.00</td>\n",
       "      <td>24.0</td>\n",
       "    </tr>\n",
       "    <tr>\n",
       "      <th>Mme</th>\n",
       "      <td>1.0</td>\n",
       "      <td>24.000000</td>\n",
       "      <td>NaN</td>\n",
       "      <td>24.00</td>\n",
       "      <td>24.00</td>\n",
       "      <td>24.0</td>\n",
       "      <td>24.00</td>\n",
       "      <td>24.0</td>\n",
       "    </tr>\n",
       "    <tr>\n",
       "      <th>Mr</th>\n",
       "      <td>581.0</td>\n",
       "      <td>32.252151</td>\n",
       "      <td>12.422089</td>\n",
       "      <td>11.00</td>\n",
       "      <td>23.00</td>\n",
       "      <td>29.0</td>\n",
       "      <td>39.00</td>\n",
       "      <td>80.0</td>\n",
       "    </tr>\n",
       "    <tr>\n",
       "      <th>Mrs</th>\n",
       "      <td>170.0</td>\n",
       "      <td>36.994118</td>\n",
       "      <td>12.901767</td>\n",
       "      <td>14.00</td>\n",
       "      <td>27.00</td>\n",
       "      <td>35.5</td>\n",
       "      <td>46.50</td>\n",
       "      <td>76.0</td>\n",
       "    </tr>\n",
       "    <tr>\n",
       "      <th>Ms</th>\n",
       "      <td>1.0</td>\n",
       "      <td>28.000000</td>\n",
       "      <td>NaN</td>\n",
       "      <td>28.00</td>\n",
       "      <td>28.00</td>\n",
       "      <td>28.0</td>\n",
       "      <td>28.00</td>\n",
       "      <td>28.0</td>\n",
       "    </tr>\n",
       "    <tr>\n",
       "      <th>Rev</th>\n",
       "      <td>8.0</td>\n",
       "      <td>41.250000</td>\n",
       "      <td>12.020815</td>\n",
       "      <td>27.00</td>\n",
       "      <td>29.50</td>\n",
       "      <td>41.5</td>\n",
       "      <td>51.75</td>\n",
       "      <td>57.0</td>\n",
       "    </tr>\n",
       "    <tr>\n",
       "      <th>Sir</th>\n",
       "      <td>1.0</td>\n",
       "      <td>49.000000</td>\n",
       "      <td>NaN</td>\n",
       "      <td>49.00</td>\n",
       "      <td>49.00</td>\n",
       "      <td>49.0</td>\n",
       "      <td>49.00</td>\n",
       "      <td>49.0</td>\n",
       "    </tr>\n",
       "    <tr>\n",
       "      <th>the Countess</th>\n",
       "      <td>1.0</td>\n",
       "      <td>33.000000</td>\n",
       "      <td>NaN</td>\n",
       "      <td>33.00</td>\n",
       "      <td>33.00</td>\n",
       "      <td>33.0</td>\n",
       "      <td>33.00</td>\n",
       "      <td>33.0</td>\n",
       "    </tr>\n",
       "  </tbody>\n",
       "</table>\n",
       "</div>"
      ],
      "text/plain": [
       "              count       mean        std    min    25%   50%    75%   max\n",
       "Title                                                                     \n",
       "Capt            1.0  70.000000        NaN  70.00  70.00  70.0  70.00  70.0\n",
       "Col             4.0  54.000000   5.477226  47.00  51.50  54.5  57.00  60.0\n",
       "Don             1.0  40.000000        NaN  40.00  40.00  40.0  40.00  40.0\n",
       "Dona            1.0  39.000000        NaN  39.00  39.00  39.0  39.00  39.0\n",
       "Dr              7.0  43.571429  11.731115  23.00  38.00  49.0  51.50  54.0\n",
       "Jonkheer        1.0  38.000000        NaN  38.00  38.00  38.0  38.00  38.0\n",
       "Lady            1.0  48.000000        NaN  48.00  48.00  48.0  48.00  48.0\n",
       "Major           2.0  48.500000   4.949747  45.00  46.75  48.5  50.25  52.0\n",
       "Master         53.0   5.482642   4.161554   0.33   2.00   4.0   9.00  14.5\n",
       "Miss          210.0  21.774238  12.249077   0.17  15.00  22.0  30.00  63.0\n",
       "Mlle            2.0  24.000000   0.000000  24.00  24.00  24.0  24.00  24.0\n",
       "Mme             1.0  24.000000        NaN  24.00  24.00  24.0  24.00  24.0\n",
       "Mr            581.0  32.252151  12.422089  11.00  23.00  29.0  39.00  80.0\n",
       "Mrs           170.0  36.994118  12.901767  14.00  27.00  35.5  46.50  76.0\n",
       "Ms              1.0  28.000000        NaN  28.00  28.00  28.0  28.00  28.0\n",
       "Rev             8.0  41.250000  12.020815  27.00  29.50  41.5  51.75  57.0\n",
       "Sir             1.0  49.000000        NaN  49.00  49.00  49.0  49.00  49.0\n",
       "the Countess    1.0  33.000000        NaN  33.00  33.00  33.0  33.00  33.0"
      ]
     },
     "execution_count": 28,
     "metadata": {},
     "output_type": "execute_result"
    }
   ],
   "source": [
    "df.groupby('Title')['Age'].describe()"
   ]
  },
  {
   "cell_type": "code",
   "execution_count": 29,
   "metadata": {
    "execution": {
     "iopub.execute_input": "2020-11-17T08:15:33.146381Z",
     "iopub.status.busy": "2020-11-17T08:15:33.145320Z",
     "iopub.status.idle": "2020-11-17T08:15:33.224627Z",
     "shell.execute_reply": "2020-11-17T08:15:33.224015Z"
    },
    "papermill": {
     "duration": 0.184033,
     "end_time": "2020-11-17T08:15:33.224745",
     "exception": false,
     "start_time": "2020-11-17T08:15:33.040712",
     "status": "completed"
    },
    "tags": []
   },
   "outputs": [
    {
     "data": {
      "text/html": [
       "<div>\n",
       "<style scoped>\n",
       "    .dataframe tbody tr th:only-of-type {\n",
       "        vertical-align: middle;\n",
       "    }\n",
       "\n",
       "    .dataframe tbody tr th {\n",
       "        vertical-align: top;\n",
       "    }\n",
       "\n",
       "    .dataframe thead th {\n",
       "        text-align: right;\n",
       "    }\n",
       "</style>\n",
       "<table border=\"1\" class=\"dataframe\">\n",
       "  <thead>\n",
       "    <tr style=\"text-align: right;\">\n",
       "      <th>Title</th>\n",
       "      <th>Capt</th>\n",
       "      <th>Col</th>\n",
       "      <th>Don</th>\n",
       "      <th>Dona</th>\n",
       "      <th>Dr</th>\n",
       "      <th>Jonkheer</th>\n",
       "      <th>Lady</th>\n",
       "      <th>Major</th>\n",
       "      <th>Master</th>\n",
       "      <th>Miss</th>\n",
       "      <th>Mlle</th>\n",
       "      <th>Mme</th>\n",
       "      <th>Mr</th>\n",
       "      <th>Mrs</th>\n",
       "      <th>Ms</th>\n",
       "      <th>Rev</th>\n",
       "      <th>Sir</th>\n",
       "      <th>the Countess</th>\n",
       "      <th>All</th>\n",
       "    </tr>\n",
       "    <tr>\n",
       "      <th>Sex</th>\n",
       "      <th></th>\n",
       "      <th></th>\n",
       "      <th></th>\n",
       "      <th></th>\n",
       "      <th></th>\n",
       "      <th></th>\n",
       "      <th></th>\n",
       "      <th></th>\n",
       "      <th></th>\n",
       "      <th></th>\n",
       "      <th></th>\n",
       "      <th></th>\n",
       "      <th></th>\n",
       "      <th></th>\n",
       "      <th></th>\n",
       "      <th></th>\n",
       "      <th></th>\n",
       "      <th></th>\n",
       "      <th></th>\n",
       "    </tr>\n",
       "  </thead>\n",
       "  <tbody>\n",
       "    <tr>\n",
       "      <th>female</th>\n",
       "      <td>0</td>\n",
       "      <td>0</td>\n",
       "      <td>0</td>\n",
       "      <td>1</td>\n",
       "      <td>1</td>\n",
       "      <td>0</td>\n",
       "      <td>1</td>\n",
       "      <td>0</td>\n",
       "      <td>0</td>\n",
       "      <td>260</td>\n",
       "      <td>2</td>\n",
       "      <td>1</td>\n",
       "      <td>0</td>\n",
       "      <td>197</td>\n",
       "      <td>2</td>\n",
       "      <td>0</td>\n",
       "      <td>0</td>\n",
       "      <td>1</td>\n",
       "      <td>466</td>\n",
       "    </tr>\n",
       "    <tr>\n",
       "      <th>male</th>\n",
       "      <td>1</td>\n",
       "      <td>4</td>\n",
       "      <td>1</td>\n",
       "      <td>0</td>\n",
       "      <td>7</td>\n",
       "      <td>1</td>\n",
       "      <td>0</td>\n",
       "      <td>2</td>\n",
       "      <td>61</td>\n",
       "      <td>0</td>\n",
       "      <td>0</td>\n",
       "      <td>0</td>\n",
       "      <td>757</td>\n",
       "      <td>0</td>\n",
       "      <td>0</td>\n",
       "      <td>8</td>\n",
       "      <td>1</td>\n",
       "      <td>0</td>\n",
       "      <td>843</td>\n",
       "    </tr>\n",
       "    <tr>\n",
       "      <th>All</th>\n",
       "      <td>1</td>\n",
       "      <td>4</td>\n",
       "      <td>1</td>\n",
       "      <td>1</td>\n",
       "      <td>8</td>\n",
       "      <td>1</td>\n",
       "      <td>1</td>\n",
       "      <td>2</td>\n",
       "      <td>61</td>\n",
       "      <td>260</td>\n",
       "      <td>2</td>\n",
       "      <td>1</td>\n",
       "      <td>757</td>\n",
       "      <td>197</td>\n",
       "      <td>2</td>\n",
       "      <td>8</td>\n",
       "      <td>1</td>\n",
       "      <td>1</td>\n",
       "      <td>1309</td>\n",
       "    </tr>\n",
       "  </tbody>\n",
       "</table>\n",
       "</div>"
      ],
      "text/plain": [
       "Title   Capt  Col  Don  Dona  Dr  Jonkheer  Lady  Major  Master  Miss  Mlle  \\\n",
       "Sex                                                                           \n",
       "female     0    0    0     1   1         0     1      0       0   260     2   \n",
       "male       1    4    1     0   7         1     0      2      61     0     0   \n",
       "All        1    4    1     1   8         1     1      2      61   260     2   \n",
       "\n",
       "Title   Mme   Mr  Mrs  Ms  Rev  Sir  the Countess   All  \n",
       "Sex                                                      \n",
       "female    1    0  197   2    0    0             1   466  \n",
       "male      0  757    0   0    8    1             0   843  \n",
       "All       1  757  197   2    8    1             1  1309  "
      ]
     },
     "execution_count": 29,
     "metadata": {},
     "output_type": "execute_result"
    }
   ],
   "source": [
    "pd.crosstab(df['Sex'], df['Title'], margins=True)"
   ]
  },
  {
   "cell_type": "code",
   "execution_count": 30,
   "metadata": {
    "execution": {
     "iopub.execute_input": "2020-11-17T08:15:33.430947Z",
     "iopub.status.busy": "2020-11-17T08:15:33.430198Z",
     "iopub.status.idle": "2020-11-17T08:15:33.433758Z",
     "shell.execute_reply": "2020-11-17T08:15:33.433177Z"
    },
    "papermill": {
     "duration": 0.112115,
     "end_time": "2020-11-17T08:15:33.433894",
     "exception": false,
     "start_time": "2020-11-17T08:15:33.321779",
     "status": "completed"
    },
    "tags": []
   },
   "outputs": [],
   "source": [
    "df['Title'] = df['Title'].replace(['Capt', 'Col', 'Don', 'Dona', 'Dr', 'Jonkheer', 'Lady', 'Major', 'Mlle', 'Mme', 'Ms', 'Rev','Sir', 'the Countess'], \n",
    "                                  ['Mr', 'Mr', 'Mr', 'Mrs', 'Mr', 'Mr', 'Mrs', 'Mr', 'Miss', 'Miss', 'Miss', 'Mr', 'Mr', 'Mrs'])"
   ]
  },
  {
   "cell_type": "code",
   "execution_count": 31,
   "metadata": {
    "execution": {
     "iopub.execute_input": "2020-11-17T08:15:33.646194Z",
     "iopub.status.busy": "2020-11-17T08:15:33.642793Z",
     "iopub.status.idle": "2020-11-17T08:15:33.805173Z",
     "shell.execute_reply": "2020-11-17T08:15:33.804586Z"
    },
    "papermill": {
     "duration": 0.266702,
     "end_time": "2020-11-17T08:15:33.805301",
     "exception": false,
     "start_time": "2020-11-17T08:15:33.538599",
     "status": "completed"
    },
    "tags": []
   },
   "outputs": [
    {
     "data": {
      "image/png": "[encoded data removed]",
      "text/plain": [
       "<Figure size 432x288 with 1 Axes>"
      ]
     },
     "metadata": {
      "needs_background": "light"
     },
     "output_type": "display_data"
    }
   ],
   "source": [
    "sns.countplot(x='Title', hue='Survived', data=df)\n",
    "plt.legend(loc='upper right')\n",
    "plt.show()"
   ]
  },
  {
   "cell_type": "markdown",
   "metadata": {
    "papermill": {
     "duration": 0.095906,
     "end_time": "2020-11-17T08:15:33.997342",
     "exception": false,
     "start_time": "2020-11-17T08:15:33.901436",
     "status": "completed"
    },
    "tags": []
   },
   "source": [
    "### FamilySize\n",
    "* 新增特徵: FamilySize = SibSp + Parch + 1\n",
    "* FamilySize 1~4的生存率有逐漸上升的跡象，但>4之後的生存率反而降低"
   ]
  },
  {
   "cell_type": "code",
   "execution_count": 32,
   "metadata": {
    "execution": {
     "iopub.execute_input": "2020-11-17T08:15:34.206656Z",
     "iopub.status.busy": "2020-11-17T08:15:34.200705Z",
     "iopub.status.idle": "2020-11-17T08:15:34.211441Z",
     "shell.execute_reply": "2020-11-17T08:15:34.210709Z"
    },
    "papermill": {
     "duration": 0.116349,
     "end_time": "2020-11-17T08:15:34.211566",
     "exception": false,
     "start_time": "2020-11-17T08:15:34.095217",
     "status": "completed"
    },
    "tags": []
   },
   "outputs": [
    {
     "data": {
      "text/html": [
       "<div>\n",
       "<style scoped>\n",
       "    .dataframe tbody tr th:only-of-type {\n",
       "        vertical-align: middle;\n",
       "    }\n",
       "\n",
       "    .dataframe tbody tr th {\n",
       "        vertical-align: top;\n",
       "    }\n",
       "\n",
       "    .dataframe thead th {\n",
       "        text-align: right;\n",
       "    }\n",
       "</style>\n",
       "<table border=\"1\" class=\"dataframe\">\n",
       "  <thead>\n",
       "    <tr style=\"text-align: right;\">\n",
       "      <th></th>\n",
       "      <th>Parch</th>\n",
       "      <th>SibSp</th>\n",
       "      <th>FamilySize</th>\n",
       "    </tr>\n",
       "  </thead>\n",
       "  <tbody>\n",
       "    <tr>\n",
       "      <th>0</th>\n",
       "      <td>0</td>\n",
       "      <td>1</td>\n",
       "      <td>2</td>\n",
       "    </tr>\n",
       "    <tr>\n",
       "      <th>1</th>\n",
       "      <td>0</td>\n",
       "      <td>1</td>\n",
       "      <td>2</td>\n",
       "    </tr>\n",
       "    <tr>\n",
       "      <th>2</th>\n",
       "      <td>0</td>\n",
       "      <td>0</td>\n",
       "      <td>1</td>\n",
       "    </tr>\n",
       "    <tr>\n",
       "      <th>3</th>\n",
       "      <td>0</td>\n",
       "      <td>1</td>\n",
       "      <td>2</td>\n",
       "    </tr>\n",
       "    <tr>\n",
       "      <th>4</th>\n",
       "      <td>0</td>\n",
       "      <td>0</td>\n",
       "      <td>1</td>\n",
       "    </tr>\n",
       "  </tbody>\n",
       "</table>\n",
       "</div>"
      ],
      "text/plain": [
       "   Parch  SibSp  FamilySize\n",
       "0      0      1           2\n",
       "1      0      1           2\n",
       "2      0      0           1\n",
       "3      0      1           2\n",
       "4      0      0           1"
      ]
     },
     "execution_count": 32,
     "metadata": {},
     "output_type": "execute_result"
    }
   ],
   "source": [
    "df['FamilySize'] = df['Parch'] + df['SibSp'] + 1\n",
    "df[['Parch', 'SibSp', 'FamilySize']].head()"
   ]
  },
  {
   "cell_type": "code",
   "execution_count": 33,
   "metadata": {
    "execution": {
     "iopub.execute_input": "2020-11-17T08:15:34.419614Z",
     "iopub.status.busy": "2020-11-17T08:15:34.412511Z",
     "iopub.status.idle": "2020-11-17T08:15:34.972527Z",
     "shell.execute_reply": "2020-11-17T08:15:34.971939Z"
    },
    "papermill": {
     "duration": 0.662945,
     "end_time": "2020-11-17T08:15:34.972677",
     "exception": false,
     "start_time": "2020-11-17T08:15:34.309732",
     "status": "completed"
    },
    "tags": []
   },
   "outputs": [
    {
     "data": {
      "text/plain": [
       "<matplotlib.axes._subplots.AxesSubplot at 0x7ff421ceea50>"
      ]
     },
     "execution_count": 33,
     "metadata": {},
     "output_type": "execute_result"
    },
    {
     "data": {
      "image/png": "[encoded data removed]",
      "text/plain": [
       "<Figure size 432x288 with 1 Axes>"
      ]
     },
     "metadata": {
      "needs_background": "light"
     },
     "output_type": "display_data"
    }
   ],
   "source": [
    "sns.barplot(x='FamilySize', y='Survived', data=df)"
   ]
  },
  {
   "cell_type": "markdown",
   "metadata": {
    "papermill": {
     "duration": 0.118463,
     "end_time": "2020-11-17T08:15:35.191660",
     "exception": false,
     "start_time": "2020-11-17T08:15:35.073197",
     "status": "completed"
    },
    "tags": []
   },
   "source": [
    "# Preprocessing"
   ]
  },
  {
   "cell_type": "markdown",
   "metadata": {
    "papermill": {
     "duration": 0.098555,
     "end_time": "2020-11-17T08:15:35.393772",
     "exception": false,
     "start_time": "2020-11-17T08:15:35.295217",
     "status": "completed"
    },
    "tags": []
   },
   "source": [
    "## Convert Sex to int\n",
    "male: 0；female: 1"
   ]
  },
  {
   "cell_type": "code",
   "execution_count": 34,
   "metadata": {
    "execution": {
     "iopub.execute_input": "2020-11-17T08:15:35.600541Z",
     "iopub.status.busy": "2020-11-17T08:15:35.599718Z",
     "iopub.status.idle": "2020-11-17T08:15:35.603088Z",
     "shell.execute_reply": "2020-11-17T08:15:35.602387Z"
    },
    "papermill": {
     "duration": 0.110495,
     "end_time": "2020-11-17T08:15:35.603212",
     "exception": false,
     "start_time": "2020-11-17T08:15:35.492717",
     "status": "completed"
    },
    "tags": []
   },
   "outputs": [],
   "source": [
    "df['Sex'] = df['Sex'].map({'male': 0, 'female': 1})"
   ]
  },
  {
   "cell_type": "markdown",
   "metadata": {
    "papermill": {
     "duration": 0.098273,
     "end_time": "2020-11-17T08:15:35.800490",
     "exception": false,
     "start_time": "2020-11-17T08:15:35.702217",
     "status": "completed"
    },
    "tags": []
   },
   "source": [
    "## Impute missing value\n",
    "* Embarked: 以mode取代\n",
    "* Fare: 為right skewed distribution，以Pclass=3的median取代"
   ]
  },
  {
   "cell_type": "code",
   "execution_count": 35,
   "metadata": {
    "execution": {
     "iopub.execute_input": "2020-11-17T08:15:36.005678Z",
     "iopub.status.busy": "2020-11-17T08:15:36.004869Z",
     "iopub.status.idle": "2020-11-17T08:15:36.008093Z",
     "shell.execute_reply": "2020-11-17T08:15:36.007439Z"
    },
    "papermill": {
     "duration": 0.108885,
     "end_time": "2020-11-17T08:15:36.008218",
     "exception": false,
     "start_time": "2020-11-17T08:15:35.899333",
     "status": "completed"
    },
    "tags": []
   },
   "outputs": [],
   "source": [
    "# Replace missing value in Embarked with mode\n",
    "embarked_mode = train['Embarked'].mode()[0]\n",
    "df['Embarked'].fillna(embarked_mode, inplace = True)"
   ]
  },
  {
   "cell_type": "code",
   "execution_count": 36,
   "metadata": {
    "execution": {
     "iopub.execute_input": "2020-11-17T08:15:36.228272Z",
     "iopub.status.busy": "2020-11-17T08:15:36.215643Z",
     "iopub.status.idle": "2020-11-17T08:15:36.486212Z",
     "shell.execute_reply": "2020-11-17T08:15:36.485484Z"
    },
    "papermill": {
     "duration": 0.378633,
     "end_time": "2020-11-17T08:15:36.486337",
     "exception": false,
     "start_time": "2020-11-17T08:15:36.107704",
     "status": "completed"
    },
    "tags": []
   },
   "outputs": [
    {
     "data": {
      "text/html": [
       "<div>\n",
       "<style scoped>\n",
       "    .dataframe tbody tr th:only-of-type {\n",
       "        vertical-align: middle;\n",
       "    }\n",
       "\n",
       "    .dataframe tbody tr th {\n",
       "        vertical-align: top;\n",
       "    }\n",
       "\n",
       "    .dataframe thead th {\n",
       "        text-align: right;\n",
       "    }\n",
       "</style>\n",
       "<table border=\"1\" class=\"dataframe\">\n",
       "  <thead>\n",
       "    <tr style=\"text-align: right;\">\n",
       "      <th></th>\n",
       "      <th>PassengerId</th>\n",
       "      <th>Survived</th>\n",
       "      <th>Pclass</th>\n",
       "      <th>Name</th>\n",
       "      <th>Sex</th>\n",
       "      <th>Age</th>\n",
       "      <th>SibSp</th>\n",
       "      <th>Parch</th>\n",
       "      <th>Ticket</th>\n",
       "      <th>Fare</th>\n",
       "      <th>Cabin</th>\n",
       "      <th>Embarked</th>\n",
       "      <th>Title</th>\n",
       "      <th>FamilySize</th>\n",
       "    </tr>\n",
       "  </thead>\n",
       "  <tbody>\n",
       "    <tr>\n",
       "      <th>1043</th>\n",
       "      <td>1044</td>\n",
       "      <td>NaN</td>\n",
       "      <td>3</td>\n",
       "      <td>Storey, Mr. Thomas</td>\n",
       "      <td>0</td>\n",
       "      <td>60.5</td>\n",
       "      <td>0</td>\n",
       "      <td>0</td>\n",
       "      <td>3701</td>\n",
       "      <td>NaN</td>\n",
       "      <td>NaN</td>\n",
       "      <td>S</td>\n",
       "      <td>Mr</td>\n",
       "      <td>1</td>\n",
       "    </tr>\n",
       "  </tbody>\n",
       "</table>\n",
       "</div>"
      ],
      "text/plain": [
       "      PassengerId  Survived  Pclass                Name  Sex   Age  SibSp  \\\n",
       "1043         1044       NaN       3  Storey, Mr. Thomas    0  60.5      0   \n",
       "\n",
       "      Parch Ticket  Fare Cabin Embarked Title  FamilySize  \n",
       "1043      0   3701   NaN   NaN        S    Mr           1  "
      ]
     },
     "metadata": {},
     "output_type": "display_data"
    },
    {
     "data": {
      "image/png": "[encoded data removed]",
      "text/plain": [
       "<Figure size 432x288 with 1 Axes>"
      ]
     },
     "metadata": {
      "needs_background": "light"
     },
     "output_type": "display_data"
    }
   ],
   "source": [
    "# Only 1 passenger's fare is missing, whose Pclass is 3.\n",
    "# Fare of Pclass=3 is right skewed, replace NAN with median.\n",
    "display(df.loc[df['Fare'].isnull()])\n",
    "sns.distplot(df.loc[df['Pclass']==3, 'Fare'])\n",
    "plt.show()\n",
    "\n",
    "fare_median = df.loc[df['Pclass']==3, 'Fare'].median()\n",
    "df['Fare'].fillna(fare_median, inplace = True)"
   ]
  },
  {
   "cell_type": "markdown",
   "metadata": {
    "papermill": {
     "duration": 0.100334,
     "end_time": "2020-11-17T08:15:36.687818",
     "exception": false,
     "start_time": "2020-11-17T08:15:36.587484",
     "status": "completed"
    },
    "tags": []
   },
   "source": [
    "## Ticket & Cabin\n",
    "新增欄位: Cabin_fill: 填補Cabin的missing value後的欄位\n",
    "* 有乘客共用Ticket，相同Ticket的Cabin第一個字母也幾乎相同\n",
    "* 取Cabin的第一個英文字母\n",
    "* 77%的Cabin為missing value。以相同Ticket的Cabin眾數填補，其餘的NAN，則以'NoCabin'填補\n",
    "* Cabin missing data太多，考慮刪掉"
   ]
  },
  {
   "cell_type": "code",
   "execution_count": 37,
   "metadata": {
    "execution": {
     "iopub.execute_input": "2020-11-17T08:15:36.930818Z",
     "iopub.status.busy": "2020-11-17T08:15:36.929747Z",
     "iopub.status.idle": "2020-11-17T08:15:36.933958Z",
     "shell.execute_reply": "2020-11-17T08:15:36.934540Z"
    },
    "papermill": {
     "duration": 0.146471,
     "end_time": "2020-11-17T08:15:36.934690",
     "exception": false,
     "start_time": "2020-11-17T08:15:36.788219",
     "status": "completed"
    },
    "tags": []
   },
   "outputs": [
    {
     "data": {
      "text/plain": [
       "0     NaN\n",
       "1     C85\n",
       "2     NaN\n",
       "3    C123\n",
       "4     NaN\n",
       "Name: Cabin, dtype: object"
      ]
     },
     "execution_count": 37,
     "metadata": {},
     "output_type": "execute_result"
    }
   ],
   "source": [
    "df['Cabin'].head()"
   ]
  },
  {
   "cell_type": "code",
   "execution_count": 38,
   "metadata": {
    "execution": {
     "iopub.execute_input": "2020-11-17T08:15:37.171171Z",
     "iopub.status.busy": "2020-11-17T08:15:37.170049Z",
     "iopub.status.idle": "2020-11-17T08:15:37.173989Z",
     "shell.execute_reply": "2020-11-17T08:15:37.175034Z"
    },
    "papermill": {
     "duration": 0.129792,
     "end_time": "2020-11-17T08:15:37.175253",
     "exception": false,
     "start_time": "2020-11-17T08:15:37.045461",
     "status": "completed"
    },
    "tags": []
   },
   "outputs": [
    {
     "data": {
      "text/plain": [
       "count         1309\n",
       "unique         929\n",
       "top       CA. 2343\n",
       "freq            11\n",
       "Name: Ticket, dtype: object"
      ]
     },
     "execution_count": 38,
     "metadata": {},
     "output_type": "execute_result"
    }
   ],
   "source": [
    "df['Ticket'].describe()"
   ]
  },
  {
   "cell_type": "code",
   "execution_count": 39,
   "metadata": {
    "execution": {
     "iopub.execute_input": "2020-11-17T08:15:37.404554Z",
     "iopub.status.busy": "2020-11-17T08:15:37.396612Z",
     "iopub.status.idle": "2020-11-17T08:15:37.429149Z",
     "shell.execute_reply": "2020-11-17T08:15:37.428403Z"
    },
    "papermill": {
     "duration": 0.145465,
     "end_time": "2020-11-17T08:15:37.429274",
     "exception": false,
     "start_time": "2020-11-17T08:15:37.283809",
     "status": "completed"
    },
    "tags": []
   },
   "outputs": [
    {
     "data": {
      "text/html": [
       "<div>\n",
       "<style scoped>\n",
       "    .dataframe tbody tr th:only-of-type {\n",
       "        vertical-align: middle;\n",
       "    }\n",
       "\n",
       "    .dataframe tbody tr th {\n",
       "        vertical-align: top;\n",
       "    }\n",
       "\n",
       "    .dataframe thead th {\n",
       "        text-align: right;\n",
       "    }\n",
       "</style>\n",
       "<table border=\"1\" class=\"dataframe\">\n",
       "  <thead>\n",
       "    <tr style=\"text-align: right;\">\n",
       "      <th></th>\n",
       "      <th>Ticket</th>\n",
       "      <th>Cabin</th>\n",
       "      <th>Name</th>\n",
       "      <th>Survived</th>\n",
       "      <th>FamilySize</th>\n",
       "      <th>Pclass</th>\n",
       "    </tr>\n",
       "  </thead>\n",
       "  <tbody>\n",
       "    <tr>\n",
       "      <th>257</th>\n",
       "      <td>110152</td>\n",
       "      <td>B77</td>\n",
       "      <td>Cherry, Miss. Gladys</td>\n",
       "      <td>1.0</td>\n",
       "      <td>1</td>\n",
       "      <td>1</td>\n",
       "    </tr>\n",
       "    <tr>\n",
       "      <th>504</th>\n",
       "      <td>110152</td>\n",
       "      <td>B79</td>\n",
       "      <td>Maioni, Miss. Roberta</td>\n",
       "      <td>1.0</td>\n",
       "      <td>1</td>\n",
       "      <td>1</td>\n",
       "    </tr>\n",
       "    <tr>\n",
       "      <th>759</th>\n",
       "      <td>110152</td>\n",
       "      <td>B77</td>\n",
       "      <td>Rothes, the Countess. of (Lucy Noel Martha Dye...</td>\n",
       "      <td>1.0</td>\n",
       "      <td>1</td>\n",
       "      <td>1</td>\n",
       "    </tr>\n",
       "    <tr>\n",
       "      <th>558</th>\n",
       "      <td>110413</td>\n",
       "      <td>E67</td>\n",
       "      <td>Taussig, Mrs. Emil (Tillie Mandelbaum)</td>\n",
       "      <td>1.0</td>\n",
       "      <td>3</td>\n",
       "      <td>1</td>\n",
       "    </tr>\n",
       "    <tr>\n",
       "      <th>262</th>\n",
       "      <td>110413</td>\n",
       "      <td>E67</td>\n",
       "      <td>Taussig, Mr. Emil</td>\n",
       "      <td>0.0</td>\n",
       "      <td>3</td>\n",
       "      <td>1</td>\n",
       "    </tr>\n",
       "    <tr>\n",
       "      <th>585</th>\n",
       "      <td>110413</td>\n",
       "      <td>E68</td>\n",
       "      <td>Taussig, Miss. Ruth</td>\n",
       "      <td>1.0</td>\n",
       "      <td>3</td>\n",
       "      <td>1</td>\n",
       "    </tr>\n",
       "    <tr>\n",
       "      <th>475</th>\n",
       "      <td>110465</td>\n",
       "      <td>A14</td>\n",
       "      <td>Clifford, Mr. George Quincy</td>\n",
       "      <td>0.0</td>\n",
       "      <td>1</td>\n",
       "      <td>1</td>\n",
       "    </tr>\n",
       "    <tr>\n",
       "      <th>110</th>\n",
       "      <td>110465</td>\n",
       "      <td>C110</td>\n",
       "      <td>Porter, Mr. Walter Chamberlain</td>\n",
       "      <td>0.0</td>\n",
       "      <td>1</td>\n",
       "      <td>1</td>\n",
       "    </tr>\n",
       "    <tr>\n",
       "      <th>366</th>\n",
       "      <td>110813</td>\n",
       "      <td>D37</td>\n",
       "      <td>Warren, Mrs. Frank Manley (Anna Sophia Atkinson)</td>\n",
       "      <td>1.0</td>\n",
       "      <td>2</td>\n",
       "      <td>1</td>\n",
       "    </tr>\n",
       "    <tr>\n",
       "      <th>1127</th>\n",
       "      <td>110813</td>\n",
       "      <td>D37</td>\n",
       "      <td>Warren, Mr. Frank Manley</td>\n",
       "      <td>NaN</td>\n",
       "      <td>2</td>\n",
       "      <td>1</td>\n",
       "    </tr>\n",
       "    <tr>\n",
       "      <th>329</th>\n",
       "      <td>111361</td>\n",
       "      <td>B18</td>\n",
       "      <td>Hippach, Miss. Jean Gertrude</td>\n",
       "      <td>1.0</td>\n",
       "      <td>2</td>\n",
       "      <td>1</td>\n",
       "    </tr>\n",
       "    <tr>\n",
       "      <th>523</th>\n",
       "      <td>111361</td>\n",
       "      <td>B18</td>\n",
       "      <td>Hippach, Mrs. Louis Albert (Ida Sophia Fischer)</td>\n",
       "      <td>1.0</td>\n",
       "      <td>2</td>\n",
       "      <td>1</td>\n",
       "    </tr>\n",
       "    <tr>\n",
       "      <th>815</th>\n",
       "      <td>112058</td>\n",
       "      <td>B102</td>\n",
       "      <td>Fry, Mr. Richard</td>\n",
       "      <td>0.0</td>\n",
       "      <td>1</td>\n",
       "      <td>1</td>\n",
       "    </tr>\n",
       "    <tr>\n",
       "      <th>1263</th>\n",
       "      <td>112058</td>\n",
       "      <td>B52 B54 B56</td>\n",
       "      <td>Ismay, Mr. Joseph Bruce</td>\n",
       "      <td>NaN</td>\n",
       "      <td>1</td>\n",
       "      <td>1</td>\n",
       "    </tr>\n",
       "    <tr>\n",
       "      <th>1259</th>\n",
       "      <td>112378</td>\n",
       "      <td>NaN</td>\n",
       "      <td>Gibson, Mrs. Leonard (Pauline C Boeson)</td>\n",
       "      <td>NaN</td>\n",
       "      <td>2</td>\n",
       "      <td>1</td>\n",
       "    </tr>\n",
       "    <tr>\n",
       "      <th>1293</th>\n",
       "      <td>112378</td>\n",
       "      <td>NaN</td>\n",
       "      <td>Gibson, Miss. Dorothy Winifred</td>\n",
       "      <td>NaN</td>\n",
       "      <td>2</td>\n",
       "      <td>1</td>\n",
       "    </tr>\n",
       "    <tr>\n",
       "      <th>83</th>\n",
       "      <td>113059</td>\n",
       "      <td>NaN</td>\n",
       "      <td>Carrau, Mr. Francisco M</td>\n",
       "      <td>0.0</td>\n",
       "      <td>1</td>\n",
       "      <td>1</td>\n",
       "    </tr>\n",
       "    <tr>\n",
       "      <th>1294</th>\n",
       "      <td>113059</td>\n",
       "      <td>NaN</td>\n",
       "      <td>Carrau, Mr. Jose Pedro</td>\n",
       "      <td>NaN</td>\n",
       "      <td>1</td>\n",
       "      <td>1</td>\n",
       "    </tr>\n",
       "    <tr>\n",
       "      <th>1109</th>\n",
       "      <td>113503</td>\n",
       "      <td>C80</td>\n",
       "      <td>Widener, Mrs. George Dunton (Eleanor Elkins)</td>\n",
       "      <td>NaN</td>\n",
       "      <td>3</td>\n",
       "      <td>1</td>\n",
       "    </tr>\n",
       "    <tr>\n",
       "      <th>1298</th>\n",
       "      <td>113503</td>\n",
       "      <td>C80</td>\n",
       "      <td>Widener, Mr. George Dunton</td>\n",
       "      <td>NaN</td>\n",
       "      <td>3</td>\n",
       "      <td>1</td>\n",
       "    </tr>\n",
       "    <tr>\n",
       "      <th>377</th>\n",
       "      <td>113503</td>\n",
       "      <td>C82</td>\n",
       "      <td>Widener, Mr. Harry Elkins</td>\n",
       "      <td>0.0</td>\n",
       "      <td>3</td>\n",
       "      <td>1</td>\n",
       "    </tr>\n",
       "    <tr>\n",
       "      <th>965</th>\n",
       "      <td>113503</td>\n",
       "      <td>C130</td>\n",
       "      <td>Geiger, Miss. Amalie</td>\n",
       "      <td>NaN</td>\n",
       "      <td>1</td>\n",
       "      <td>1</td>\n",
       "    </tr>\n",
       "    <tr>\n",
       "      <th>966</th>\n",
       "      <td>113503</td>\n",
       "      <td>C132</td>\n",
       "      <td>Keeping, Mr. Edwin</td>\n",
       "      <td>NaN</td>\n",
       "      <td>1</td>\n",
       "      <td>1</td>\n",
       "    </tr>\n",
       "    <tr>\n",
       "      <th>356</th>\n",
       "      <td>113505</td>\n",
       "      <td>E33</td>\n",
       "      <td>Bowerman, Miss. Elsie Edith</td>\n",
       "      <td>1.0</td>\n",
       "      <td>2</td>\n",
       "      <td>1</td>\n",
       "    </tr>\n",
       "    <tr>\n",
       "      <th>166</th>\n",
       "      <td>113505</td>\n",
       "      <td>E33</td>\n",
       "      <td>Chibnall, Mrs. (Edith Martha Bowerman)</td>\n",
       "      <td>1.0</td>\n",
       "      <td>2</td>\n",
       "      <td>1</td>\n",
       "    </tr>\n",
       "    <tr>\n",
       "      <th>54</th>\n",
       "      <td>113509</td>\n",
       "      <td>B30</td>\n",
       "      <td>Ostby, Mr. Engelhart Cornelius</td>\n",
       "      <td>0.0</td>\n",
       "      <td>2</td>\n",
       "      <td>1</td>\n",
       "    </tr>\n",
       "    <tr>\n",
       "      <th>917</th>\n",
       "      <td>113509</td>\n",
       "      <td>B36</td>\n",
       "      <td>Ostby, Miss. Helene Ragnhild</td>\n",
       "      <td>NaN</td>\n",
       "      <td>2</td>\n",
       "      <td>1</td>\n",
       "    </tr>\n",
       "    <tr>\n",
       "      <th>829</th>\n",
       "      <td>113572</td>\n",
       "      <td>B28</td>\n",
       "      <td>Stone, Mrs. George Nelson (Martha Evelyn)</td>\n",
       "      <td>1.0</td>\n",
       "      <td>1</td>\n",
       "      <td>1</td>\n",
       "    </tr>\n",
       "    <tr>\n",
       "      <th>61</th>\n",
       "      <td>113572</td>\n",
       "      <td>B28</td>\n",
       "      <td>Icard, Miss. Amelie</td>\n",
       "      <td>1.0</td>\n",
       "      <td>1</td>\n",
       "      <td>1</td>\n",
       "    </tr>\n",
       "    <tr>\n",
       "      <th>763</th>\n",
       "      <td>113760</td>\n",
       "      <td>B96 B98</td>\n",
       "      <td>Carter, Mrs. William Ernest (Lucile Polk)</td>\n",
       "      <td>1.0</td>\n",
       "      <td>4</td>\n",
       "      <td>1</td>\n",
       "    </tr>\n",
       "  </tbody>\n",
       "</table>\n",
       "</div>"
      ],
      "text/plain": [
       "      Ticket        Cabin                                               Name  \\\n",
       "257   110152          B77                               Cherry, Miss. Gladys   \n",
       "504   110152          B79                              Maioni, Miss. Roberta   \n",
       "759   110152          B77  Rothes, the Countess. of (Lucy Noel Martha Dye...   \n",
       "558   110413          E67             Taussig, Mrs. Emil (Tillie Mandelbaum)   \n",
       "262   110413          E67                                  Taussig, Mr. Emil   \n",
       "585   110413          E68                                Taussig, Miss. Ruth   \n",
       "475   110465          A14                        Clifford, Mr. George Quincy   \n",
       "110   110465         C110                     Porter, Mr. Walter Chamberlain   \n",
       "366   110813          D37   Warren, Mrs. Frank Manley (Anna Sophia Atkinson)   \n",
       "1127  110813          D37                           Warren, Mr. Frank Manley   \n",
       "329   111361          B18                       Hippach, Miss. Jean Gertrude   \n",
       "523   111361          B18    Hippach, Mrs. Louis Albert (Ida Sophia Fischer)   \n",
       "815   112058         B102                                   Fry, Mr. Richard   \n",
       "1263  112058  B52 B54 B56                            Ismay, Mr. Joseph Bruce   \n",
       "1259  112378          NaN            Gibson, Mrs. Leonard (Pauline C Boeson)   \n",
       "1293  112378          NaN                     Gibson, Miss. Dorothy Winifred   \n",
       "83    113059          NaN                            Carrau, Mr. Francisco M   \n",
       "1294  113059          NaN                             Carrau, Mr. Jose Pedro   \n",
       "1109  113503          C80       Widener, Mrs. George Dunton (Eleanor Elkins)   \n",
       "1298  113503          C80                         Widener, Mr. George Dunton   \n",
       "377   113503          C82                          Widener, Mr. Harry Elkins   \n",
       "965   113503         C130                               Geiger, Miss. Amalie   \n",
       "966   113503         C132                                 Keeping, Mr. Edwin   \n",
       "356   113505          E33                        Bowerman, Miss. Elsie Edith   \n",
       "166   113505          E33             Chibnall, Mrs. (Edith Martha Bowerman)   \n",
       "54    113509          B30                     Ostby, Mr. Engelhart Cornelius   \n",
       "917   113509          B36                       Ostby, Miss. Helene Ragnhild   \n",
       "829   113572          B28          Stone, Mrs. George Nelson (Martha Evelyn)   \n",
       "61    113572          B28                                Icard, Miss. Amelie   \n",
       "763   113760      B96 B98          Carter, Mrs. William Ernest (Lucile Polk)   \n",
       "\n",
       "      Survived  FamilySize  Pclass  \n",
       "257        1.0           1       1  \n",
       "504        1.0           1       1  \n",
       "759        1.0           1       1  \n",
       "558        1.0           3       1  \n",
       "262        0.0           3       1  \n",
       "585        1.0           3       1  \n",
       "475        0.0           1       1  \n",
       "110        0.0           1       1  \n",
       "366        1.0           2       1  \n",
       "1127       NaN           2       1  \n",
       "329        1.0           2       1  \n",
       "523        1.0           2       1  \n",
       "815        0.0           1       1  \n",
       "1263       NaN           1       1  \n",
       "1259       NaN           2       1  \n",
       "1293       NaN           2       1  \n",
       "83         0.0           1       1  \n",
       "1294       NaN           1       1  \n",
       "1109       NaN           3       1  \n",
       "1298       NaN           3       1  \n",
       "377        0.0           3       1  \n",
       "965        NaN           1       1  \n",
       "966        NaN           1       1  \n",
       "356        1.0           2       1  \n",
       "166        1.0           2       1  \n",
       "54         0.0           2       1  \n",
       "917        NaN           2       1  \n",
       "829        1.0           1       1  \n",
       "61         1.0           1       1  \n",
       "763        1.0           4       1  "
      ]
     },
     "execution_count": 39,
     "metadata": {},
     "output_type": "execute_result"
    }
   ],
   "source": [
    "# Info of passengers with shared tickets\n",
    "shared_ticket = df['Ticket'].value_counts().where(lambda x: x>1).dropna().index\n",
    "df.loc[df['Ticket'].isin(shared_ticket), \n",
    "          ['Ticket', 'Cabin', 'Name', 'Survived', 'FamilySize', 'Pclass']].sort_values(by='Ticket').head(30)"
   ]
  },
  {
   "cell_type": "code",
   "execution_count": 40,
   "metadata": {
    "execution": {
     "iopub.execute_input": "2020-11-17T08:15:37.653356Z",
     "iopub.status.busy": "2020-11-17T08:15:37.652273Z",
     "iopub.status.idle": "2020-11-17T08:15:37.723814Z",
     "shell.execute_reply": "2020-11-17T08:15:37.724386Z"
    },
    "papermill": {
     "duration": 0.191668,
     "end_time": "2020-11-17T08:15:37.724547",
     "exception": false,
     "start_time": "2020-11-17T08:15:37.532879",
     "status": "completed"
    },
    "tags": []
   },
   "outputs": [
    {
     "data": {
      "text/plain": [
       "Ticket\n",
       "110152      B\n",
       "110413      E\n",
       "110465      A\n",
       "110813      D\n",
       "111361      B\n",
       "112058      B\n",
       "112378    NaN\n",
       "113059    NaN\n",
       "113503      C\n",
       "113505      E\n",
       "Name: Cabin_letter, dtype: object"
      ]
     },
     "execution_count": 40,
     "metadata": {},
     "output_type": "execute_result"
    }
   ],
   "source": [
    "# 取Cabin的第一個字母\n",
    "df['Cabin_letter'] = df['Cabin'].map(lambda x: str(x)[0] if pd.notna(x) else np.nan)\n",
    "cabin = df.loc[df['Ticket'].isin(shared_ticket)].groupby('Ticket')['Cabin_letter'].agg(lambda x: np.nan if x.isnull().all() else x.mode()[0])\n",
    "cabin.head(10)"
   ]
  },
  {
   "cell_type": "code",
   "execution_count": 41,
   "metadata": {
    "execution": {
     "iopub.execute_input": "2020-11-17T08:15:37.945659Z",
     "iopub.status.busy": "2020-11-17T08:15:37.944788Z",
     "iopub.status.idle": "2020-11-17T08:15:37.950343Z",
     "shell.execute_reply": "2020-11-17T08:15:37.949584Z"
    },
    "papermill": {
     "duration": 0.122374,
     "end_time": "2020-11-17T08:15:37.950470",
     "exception": false,
     "start_time": "2020-11-17T08:15:37.828096",
     "status": "completed"
    },
    "tags": []
   },
   "outputs": [],
   "source": [
    "# 以各ticket group的Cabin眾數取代NAN，最後將剩下的NAN以'NoCabin'取代\n",
    "df['Cabin_fill'] = df['Cabin_letter'].fillna(df['Ticket'].map(cabin.to_dict()))\n",
    "df['Cabin_fill'] = df['Cabin_fill'].fillna('NoCabin')"
   ]
  },
  {
   "cell_type": "code",
   "execution_count": 42,
   "metadata": {
    "execution": {
     "iopub.execute_input": "2020-11-17T08:15:38.167459Z",
     "iopub.status.busy": "2020-11-17T08:15:38.165231Z",
     "iopub.status.idle": "2020-11-17T08:15:38.332246Z",
     "shell.execute_reply": "2020-11-17T08:15:38.332826Z"
    },
    "papermill": {
     "duration": 0.278795,
     "end_time": "2020-11-17T08:15:38.333002",
     "exception": false,
     "start_time": "2020-11-17T08:15:38.054207",
     "status": "completed"
    },
    "tags": []
   },
   "outputs": [
    {
     "data": {
      "text/plain": [
       "<matplotlib.axes._subplots.AxesSubplot at 0x7ff421b14e90>"
      ]
     },
     "execution_count": 42,
     "metadata": {},
     "output_type": "execute_result"
    },
    {
     "data": {
      "image/png": "[encoded data removed]",
      "text/plain": [
       "<Figure size 432x288 with 1 Axes>"
      ]
     },
     "metadata": {
      "needs_background": "light"
     },
     "output_type": "display_data"
    }
   ],
   "source": [
    "sns.countplot('Cabin_fill', data=df)"
   ]
  },
  {
   "cell_type": "code",
   "execution_count": 43,
   "metadata": {
    "execution": {
     "iopub.execute_input": "2020-11-17T08:15:38.565570Z",
     "iopub.status.busy": "2020-11-17T08:15:38.552100Z",
     "iopub.status.idle": "2020-11-17T08:15:39.081365Z",
     "shell.execute_reply": "2020-11-17T08:15:39.080724Z"
    },
    "papermill": {
     "duration": 0.643121,
     "end_time": "2020-11-17T08:15:39.081495",
     "exception": false,
     "start_time": "2020-11-17T08:15:38.438374",
     "status": "completed"
    },
    "tags": []
   },
   "outputs": [
    {
     "data": {
      "text/plain": [
       "<matplotlib.axes._subplots.AxesSubplot at 0x7ff421a95650>"
      ]
     },
     "execution_count": 43,
     "metadata": {},
     "output_type": "execute_result"
    },
    {
     "data": {
      "image/png": "[encoded data removed]",
      "text/plain": [
       "<Figure size 432x288 with 1 Axes>"
      ]
     },
     "metadata": {
      "needs_background": "light"
     },
     "output_type": "display_data"
    }
   ],
   "source": [
    "sns.barplot(x='Cabin_fill', y='Survived', data=df)"
   ]
  },
  {
   "cell_type": "markdown",
   "metadata": {
    "papermill": {
     "duration": 0.107605,
     "end_time": "2020-11-17T08:15:39.296132",
     "exception": false,
     "start_time": "2020-11-17T08:15:39.188527",
     "status": "completed"
    },
    "tags": []
   },
   "source": [
    "新增欄位: Ticket_Survived  \n",
    "觀察共用Ticket的乘客資訊，可發現有全數生還的(如Ticket 110152,111361)；有全數死亡的(如110465)；也有部分生還部分死亡的(如110413)。將Ticket_Survived預設為0.5，觀察同一個Ticket group，若group size > 1:\n",
    "* 若除了自己有人存活，則Ticket_Survived = 1\n",
    "* 若除了自己皆無生存資訊(資料皆在test data)，則Ticket_Survived = 0.5\n",
    "* 若除了自己無人存活，則Ticket_Survived = 0"
   ]
  },
  {
   "cell_type": "code",
   "execution_count": 44,
   "metadata": {
    "execution": {
     "iopub.execute_input": "2020-11-17T08:15:39.517382Z",
     "iopub.status.busy": "2020-11-17T08:15:39.516271Z",
     "iopub.status.idle": "2020-11-17T08:15:39.539783Z",
     "shell.execute_reply": "2020-11-17T08:15:39.539174Z"
    },
    "papermill": {
     "duration": 0.137319,
     "end_time": "2020-11-17T08:15:39.539902",
     "exception": false,
     "start_time": "2020-11-17T08:15:39.402583",
     "status": "completed"
    },
    "tags": []
   },
   "outputs": [
    {
     "data": {
      "text/html": [
       "<div>\n",
       "<style scoped>\n",
       "    .dataframe tbody tr th:only-of-type {\n",
       "        vertical-align: middle;\n",
       "    }\n",
       "\n",
       "    .dataframe tbody tr th {\n",
       "        vertical-align: top;\n",
       "    }\n",
       "\n",
       "    .dataframe thead th {\n",
       "        text-align: right;\n",
       "    }\n",
       "</style>\n",
       "<table border=\"1\" class=\"dataframe\">\n",
       "  <thead>\n",
       "    <tr style=\"text-align: right;\">\n",
       "      <th></th>\n",
       "      <th>Ticket</th>\n",
       "      <th>Survived</th>\n",
       "      <th>Name</th>\n",
       "      <th>FamilySize</th>\n",
       "      <th>Pclass</th>\n",
       "    </tr>\n",
       "  </thead>\n",
       "  <tbody>\n",
       "    <tr>\n",
       "      <th>257</th>\n",
       "      <td>110152</td>\n",
       "      <td>1.0</td>\n",
       "      <td>Cherry, Miss. Gladys</td>\n",
       "      <td>1</td>\n",
       "      <td>1</td>\n",
       "    </tr>\n",
       "    <tr>\n",
       "      <th>504</th>\n",
       "      <td>110152</td>\n",
       "      <td>1.0</td>\n",
       "      <td>Maioni, Miss. Roberta</td>\n",
       "      <td>1</td>\n",
       "      <td>1</td>\n",
       "    </tr>\n",
       "    <tr>\n",
       "      <th>759</th>\n",
       "      <td>110152</td>\n",
       "      <td>1.0</td>\n",
       "      <td>Rothes, the Countess. of (Lucy Noel Martha Dye...</td>\n",
       "      <td>1</td>\n",
       "      <td>1</td>\n",
       "    </tr>\n",
       "    <tr>\n",
       "      <th>558</th>\n",
       "      <td>110413</td>\n",
       "      <td>1.0</td>\n",
       "      <td>Taussig, Mrs. Emil (Tillie Mandelbaum)</td>\n",
       "      <td>3</td>\n",
       "      <td>1</td>\n",
       "    </tr>\n",
       "    <tr>\n",
       "      <th>262</th>\n",
       "      <td>110413</td>\n",
       "      <td>0.0</td>\n",
       "      <td>Taussig, Mr. Emil</td>\n",
       "      <td>3</td>\n",
       "      <td>1</td>\n",
       "    </tr>\n",
       "    <tr>\n",
       "      <th>585</th>\n",
       "      <td>110413</td>\n",
       "      <td>1.0</td>\n",
       "      <td>Taussig, Miss. Ruth</td>\n",
       "      <td>3</td>\n",
       "      <td>1</td>\n",
       "    </tr>\n",
       "    <tr>\n",
       "      <th>475</th>\n",
       "      <td>110465</td>\n",
       "      <td>0.0</td>\n",
       "      <td>Clifford, Mr. George Quincy</td>\n",
       "      <td>1</td>\n",
       "      <td>1</td>\n",
       "    </tr>\n",
       "    <tr>\n",
       "      <th>110</th>\n",
       "      <td>110465</td>\n",
       "      <td>0.0</td>\n",
       "      <td>Porter, Mr. Walter Chamberlain</td>\n",
       "      <td>1</td>\n",
       "      <td>1</td>\n",
       "    </tr>\n",
       "    <tr>\n",
       "      <th>366</th>\n",
       "      <td>110813</td>\n",
       "      <td>1.0</td>\n",
       "      <td>Warren, Mrs. Frank Manley (Anna Sophia Atkinson)</td>\n",
       "      <td>2</td>\n",
       "      <td>1</td>\n",
       "    </tr>\n",
       "    <tr>\n",
       "      <th>1127</th>\n",
       "      <td>110813</td>\n",
       "      <td>NaN</td>\n",
       "      <td>Warren, Mr. Frank Manley</td>\n",
       "      <td>2</td>\n",
       "      <td>1</td>\n",
       "    </tr>\n",
       "    <tr>\n",
       "      <th>329</th>\n",
       "      <td>111361</td>\n",
       "      <td>1.0</td>\n",
       "      <td>Hippach, Miss. Jean Gertrude</td>\n",
       "      <td>2</td>\n",
       "      <td>1</td>\n",
       "    </tr>\n",
       "    <tr>\n",
       "      <th>523</th>\n",
       "      <td>111361</td>\n",
       "      <td>1.0</td>\n",
       "      <td>Hippach, Mrs. Louis Albert (Ida Sophia Fischer)</td>\n",
       "      <td>2</td>\n",
       "      <td>1</td>\n",
       "    </tr>\n",
       "    <tr>\n",
       "      <th>815</th>\n",
       "      <td>112058</td>\n",
       "      <td>0.0</td>\n",
       "      <td>Fry, Mr. Richard</td>\n",
       "      <td>1</td>\n",
       "      <td>1</td>\n",
       "    </tr>\n",
       "    <tr>\n",
       "      <th>1263</th>\n",
       "      <td>112058</td>\n",
       "      <td>NaN</td>\n",
       "      <td>Ismay, Mr. Joseph Bruce</td>\n",
       "      <td>1</td>\n",
       "      <td>1</td>\n",
       "    </tr>\n",
       "    <tr>\n",
       "      <th>1259</th>\n",
       "      <td>112378</td>\n",
       "      <td>NaN</td>\n",
       "      <td>Gibson, Mrs. Leonard (Pauline C Boeson)</td>\n",
       "      <td>2</td>\n",
       "      <td>1</td>\n",
       "    </tr>\n",
       "    <tr>\n",
       "      <th>1293</th>\n",
       "      <td>112378</td>\n",
       "      <td>NaN</td>\n",
       "      <td>Gibson, Miss. Dorothy Winifred</td>\n",
       "      <td>2</td>\n",
       "      <td>1</td>\n",
       "    </tr>\n",
       "    <tr>\n",
       "      <th>83</th>\n",
       "      <td>113059</td>\n",
       "      <td>0.0</td>\n",
       "      <td>Carrau, Mr. Francisco M</td>\n",
       "      <td>1</td>\n",
       "      <td>1</td>\n",
       "    </tr>\n",
       "    <tr>\n",
       "      <th>1294</th>\n",
       "      <td>113059</td>\n",
       "      <td>NaN</td>\n",
       "      <td>Carrau, Mr. Jose Pedro</td>\n",
       "      <td>1</td>\n",
       "      <td>1</td>\n",
       "    </tr>\n",
       "    <tr>\n",
       "      <th>1109</th>\n",
       "      <td>113503</td>\n",
       "      <td>NaN</td>\n",
       "      <td>Widener, Mrs. George Dunton (Eleanor Elkins)</td>\n",
       "      <td>3</td>\n",
       "      <td>1</td>\n",
       "    </tr>\n",
       "    <tr>\n",
       "      <th>1298</th>\n",
       "      <td>113503</td>\n",
       "      <td>NaN</td>\n",
       "      <td>Widener, Mr. George Dunton</td>\n",
       "      <td>3</td>\n",
       "      <td>1</td>\n",
       "    </tr>\n",
       "    <tr>\n",
       "      <th>377</th>\n",
       "      <td>113503</td>\n",
       "      <td>0.0</td>\n",
       "      <td>Widener, Mr. Harry Elkins</td>\n",
       "      <td>3</td>\n",
       "      <td>1</td>\n",
       "    </tr>\n",
       "    <tr>\n",
       "      <th>965</th>\n",
       "      <td>113503</td>\n",
       "      <td>NaN</td>\n",
       "      <td>Geiger, Miss. Amalie</td>\n",
       "      <td>1</td>\n",
       "      <td>1</td>\n",
       "    </tr>\n",
       "    <tr>\n",
       "      <th>966</th>\n",
       "      <td>113503</td>\n",
       "      <td>NaN</td>\n",
       "      <td>Keeping, Mr. Edwin</td>\n",
       "      <td>1</td>\n",
       "      <td>1</td>\n",
       "    </tr>\n",
       "    <tr>\n",
       "      <th>356</th>\n",
       "      <td>113505</td>\n",
       "      <td>1.0</td>\n",
       "      <td>Bowerman, Miss. Elsie Edith</td>\n",
       "      <td>2</td>\n",
       "      <td>1</td>\n",
       "    </tr>\n",
       "    <tr>\n",
       "      <th>166</th>\n",
       "      <td>113505</td>\n",
       "      <td>1.0</td>\n",
       "      <td>Chibnall, Mrs. (Edith Martha Bowerman)</td>\n",
       "      <td>2</td>\n",
       "      <td>1</td>\n",
       "    </tr>\n",
       "    <tr>\n",
       "      <th>54</th>\n",
       "      <td>113509</td>\n",
       "      <td>0.0</td>\n",
       "      <td>Ostby, Mr. Engelhart Cornelius</td>\n",
       "      <td>2</td>\n",
       "      <td>1</td>\n",
       "    </tr>\n",
       "    <tr>\n",
       "      <th>917</th>\n",
       "      <td>113509</td>\n",
       "      <td>NaN</td>\n",
       "      <td>Ostby, Miss. Helene Ragnhild</td>\n",
       "      <td>2</td>\n",
       "      <td>1</td>\n",
       "    </tr>\n",
       "    <tr>\n",
       "      <th>829</th>\n",
       "      <td>113572</td>\n",
       "      <td>1.0</td>\n",
       "      <td>Stone, Mrs. George Nelson (Martha Evelyn)</td>\n",
       "      <td>1</td>\n",
       "      <td>1</td>\n",
       "    </tr>\n",
       "    <tr>\n",
       "      <th>61</th>\n",
       "      <td>113572</td>\n",
       "      <td>1.0</td>\n",
       "      <td>Icard, Miss. Amelie</td>\n",
       "      <td>1</td>\n",
       "      <td>1</td>\n",
       "    </tr>\n",
       "    <tr>\n",
       "      <th>763</th>\n",
       "      <td>113760</td>\n",
       "      <td>1.0</td>\n",
       "      <td>Carter, Mrs. William Ernest (Lucile Polk)</td>\n",
       "      <td>4</td>\n",
       "      <td>1</td>\n",
       "    </tr>\n",
       "  </tbody>\n",
       "</table>\n",
       "</div>"
      ],
      "text/plain": [
       "      Ticket  Survived                                               Name  \\\n",
       "257   110152       1.0                               Cherry, Miss. Gladys   \n",
       "504   110152       1.0                              Maioni, Miss. Roberta   \n",
       "759   110152       1.0  Rothes, the Countess. of (Lucy Noel Martha Dye...   \n",
       "558   110413       1.0             Taussig, Mrs. Emil (Tillie Mandelbaum)   \n",
       "262   110413       0.0                                  Taussig, Mr. Emil   \n",
       "585   110413       1.0                                Taussig, Miss. Ruth   \n",
       "475   110465       0.0                        Clifford, Mr. George Quincy   \n",
       "110   110465       0.0                     Porter, Mr. Walter Chamberlain   \n",
       "366   110813       1.0   Warren, Mrs. Frank Manley (Anna Sophia Atkinson)   \n",
       "1127  110813       NaN                           Warren, Mr. Frank Manley   \n",
       "329   111361       1.0                       Hippach, Miss. Jean Gertrude   \n",
       "523   111361       1.0    Hippach, Mrs. Louis Albert (Ida Sophia Fischer)   \n",
       "815   112058       0.0                                   Fry, Mr. Richard   \n",
       "1263  112058       NaN                            Ismay, Mr. Joseph Bruce   \n",
       "1259  112378       NaN            Gibson, Mrs. Leonard (Pauline C Boeson)   \n",
       "1293  112378       NaN                     Gibson, Miss. Dorothy Winifred   \n",
       "83    113059       0.0                            Carrau, Mr. Francisco M   \n",
       "1294  113059       NaN                             Carrau, Mr. Jose Pedro   \n",
       "1109  113503       NaN       Widener, Mrs. George Dunton (Eleanor Elkins)   \n",
       "1298  113503       NaN                         Widener, Mr. George Dunton   \n",
       "377   113503       0.0                          Widener, Mr. Harry Elkins   \n",
       "965   113503       NaN                               Geiger, Miss. Amalie   \n",
       "966   113503       NaN                                 Keeping, Mr. Edwin   \n",
       "356   113505       1.0                        Bowerman, Miss. Elsie Edith   \n",
       "166   113505       1.0             Chibnall, Mrs. (Edith Martha Bowerman)   \n",
       "54    113509       0.0                     Ostby, Mr. Engelhart Cornelius   \n",
       "917   113509       NaN                       Ostby, Miss. Helene Ragnhild   \n",
       "829   113572       1.0          Stone, Mrs. George Nelson (Martha Evelyn)   \n",
       "61    113572       1.0                                Icard, Miss. Amelie   \n",
       "763   113760       1.0          Carter, Mrs. William Ernest (Lucile Polk)   \n",
       "\n",
       "      FamilySize  Pclass  \n",
       "257            1       1  \n",
       "504            1       1  \n",
       "759            1       1  \n",
       "558            3       1  \n",
       "262            3       1  \n",
       "585            3       1  \n",
       "475            1       1  \n",
       "110            1       1  \n",
       "366            2       1  \n",
       "1127           2       1  \n",
       "329            2       1  \n",
       "523            2       1  \n",
       "815            1       1  \n",
       "1263           1       1  \n",
       "1259           2       1  \n",
       "1293           2       1  \n",
       "83             1       1  \n",
       "1294           1       1  \n",
       "1109           3       1  \n",
       "1298           3       1  \n",
       "377            3       1  \n",
       "965            1       1  \n",
       "966            1       1  \n",
       "356            2       1  \n",
       "166            2       1  \n",
       "54             2       1  \n",
       "917            2       1  \n",
       "829            1       1  \n",
       "61             1       1  \n",
       "763            4       1  "
      ]
     },
     "execution_count": 44,
     "metadata": {},
     "output_type": "execute_result"
    }
   ],
   "source": [
    "df.loc[df['Ticket'].isin(shared_ticket), \n",
    "          ['Ticket', 'Survived', 'Name', 'FamilySize', 'Pclass']].sort_values(by='Ticket').head(30)"
   ]
  },
  {
   "cell_type": "code",
   "execution_count": 45,
   "metadata": {
    "execution": {
     "iopub.execute_input": "2020-11-17T08:15:39.765569Z",
     "iopub.status.busy": "2020-11-17T08:15:39.763960Z",
     "iopub.status.idle": "2020-11-17T08:15:41.648853Z",
     "shell.execute_reply": "2020-11-17T08:15:41.648198Z"
    },
    "papermill": {
     "duration": 2.00116,
     "end_time": "2020-11-17T08:15:41.649007",
     "exception": false,
     "start_time": "2020-11-17T08:15:39.647847",
     "status": "completed"
    },
    "tags": []
   },
   "outputs": [],
   "source": [
    "df['Ticket_survived'] = 0.5\n",
    "for name, group in df.groupby('Ticket'):\n",
    "    if (len(group) > 1):\n",
    "        for ind, row in group.iterrows():\n",
    "            if 1 in group.drop(ind)['Survived'].values:\n",
    "                df.loc[df['PassengerId'] == row['PassengerId'], 'Ticket_survived'] = 1\n",
    "            elif 0 in group.drop(ind)['Survived'].values:\n",
    "                df.loc[df['PassengerId'] == row['PassengerId'], 'Ticket_survived'] = 0"
   ]
  },
  {
   "cell_type": "code",
   "execution_count": 46,
   "metadata": {
    "execution": {
     "iopub.execute_input": "2020-11-17T08:15:41.890030Z",
     "iopub.status.busy": "2020-11-17T08:15:41.882309Z",
     "iopub.status.idle": "2020-11-17T08:15:42.022510Z",
     "shell.execute_reply": "2020-11-17T08:15:42.021753Z"
    },
    "papermill": {
     "duration": 0.265875,
     "end_time": "2020-11-17T08:15:42.022634",
     "exception": false,
     "start_time": "2020-11-17T08:15:41.756759",
     "status": "completed"
    },
    "tags": []
   },
   "outputs": [
    {
     "data": {
      "image/png": "[encoded data removed]",
      "text/plain": [
       "<Figure size 432x288 with 1 Axes>"
      ]
     },
     "metadata": {
      "needs_background": "light"
     },
     "output_type": "display_data"
    }
   ],
   "source": [
    "countplot_percent('Ticket_survived')"
   ]
  },
  {
   "cell_type": "markdown",
   "metadata": {
    "papermill": {
     "duration": 0.114304,
     "end_time": "2020-11-17T08:15:42.250033",
     "exception": false,
     "start_time": "2020-11-17T08:15:42.135729",
     "status": "completed"
    },
    "tags": []
   },
   "source": [
    "## Impute missing value: Age\n",
    "* 年齡上，Pclass=1 > Pclass=2 > Pclass=3\n",
    "* 以Title來說，Mr與Mrs年齡中位數差不多，且大於Miss，Miss的年齡大於Master\n",
    "* 依Title與Pclass的中位數填補Age的missing value\n",
    "* 從violin plot可看出較年輕的乘客生存率較高"
   ]
  },
  {
   "cell_type": "code",
   "execution_count": 47,
   "metadata": {
    "execution": {
     "iopub.execute_input": "2020-11-17T08:15:42.483258Z",
     "iopub.status.busy": "2020-11-17T08:15:42.477110Z",
     "iopub.status.idle": "2020-11-17T08:15:42.677357Z",
     "shell.execute_reply": "2020-11-17T08:15:42.677879Z"
    },
    "papermill": {
     "duration": 0.317007,
     "end_time": "2020-11-17T08:15:42.678057",
     "exception": false,
     "start_time": "2020-11-17T08:15:42.361050",
     "status": "completed"
    },
    "tags": []
   },
   "outputs": [
    {
     "data": {
      "text/plain": [
       "<matplotlib.axes._subplots.AxesSubplot at 0x7ff42193c490>"
      ]
     },
     "execution_count": 47,
     "metadata": {},
     "output_type": "execute_result"
    },
    {
     "data": {
      "image/png": "[encoded data removed]",
      "text/plain": [
       "<Figure size 432x288 with 1 Axes>"
      ]
     },
     "metadata": {
      "needs_background": "light"
     },
     "output_type": "display_data"
    }
   ],
   "source": [
    "sns.distplot(df['Age'])"
   ]
  },
  {
   "cell_type": "code",
   "execution_count": 48,
   "metadata": {
    "execution": {
     "iopub.execute_input": "2020-11-17T08:15:42.909040Z",
     "iopub.status.busy": "2020-11-17T08:15:42.907152Z",
     "iopub.status.idle": "2020-11-17T08:15:43.423988Z",
     "shell.execute_reply": "2020-11-17T08:15:43.423352Z"
    },
    "papermill": {
     "duration": 0.635808,
     "end_time": "2020-11-17T08:15:43.424115",
     "exception": false,
     "start_time": "2020-11-17T08:15:42.788307",
     "status": "completed"
    },
    "tags": []
   },
   "outputs": [
    {
     "data": {
      "text/plain": [
       "Text(0.5, 1.0, 'Age vs Title vs Pclass')"
      ]
     },
     "execution_count": 48,
     "metadata": {},
     "output_type": "execute_result"
    },
    {
     "data": {
      "image/png": "[encoded data removed]",
      "text/plain": [
       "<Figure size 1080x360 with 1 Axes>"
      ]
     },
     "metadata": {
      "needs_background": "light"
     },
     "output_type": "display_data"
    }
   ],
   "source": [
    "plt.figure(figsize=(15, 5))\n",
    "sns.boxplot(x='Title', y='Age', hue='Pclass', data=df)\n",
    "plt.title('Age vs Title vs Pclass')"
   ]
  },
  {
   "cell_type": "code",
   "execution_count": 49,
   "metadata": {
    "execution": {
     "iopub.execute_input": "2020-11-17T08:15:43.660947Z",
     "iopub.status.busy": "2020-11-17T08:15:43.658727Z",
     "iopub.status.idle": "2020-11-17T08:15:48.176842Z",
     "shell.execute_reply": "2020-11-17T08:15:48.176221Z"
    },
    "papermill": {
     "duration": 4.63588,
     "end_time": "2020-11-17T08:15:48.176985",
     "exception": false,
     "start_time": "2020-11-17T08:15:43.541105",
     "status": "completed"
    },
    "tags": []
   },
   "outputs": [
    {
     "data": {
      "image/png": "[encoded data removed]",
      "text/plain": [
       "<Figure size 872x648 with 12 Axes>"
      ]
     },
     "metadata": {
      "needs_background": "light"
     },
     "output_type": "display_data"
    }
   ],
   "source": [
    "g = sns.FacetGrid(df, row='Pclass', col='Title')\n",
    "g.map(plt.hist, 'Age')\n",
    "g.add_legend();"
   ]
  },
  {
   "cell_type": "code",
   "execution_count": 50,
   "metadata": {
    "execution": {
     "iopub.execute_input": "2020-11-17T08:15:48.412733Z",
     "iopub.status.busy": "2020-11-17T08:15:48.411993Z",
     "iopub.status.idle": "2020-11-17T08:15:48.420959Z",
     "shell.execute_reply": "2020-11-17T08:15:48.420364Z"
    },
    "papermill": {
     "duration": 0.130276,
     "end_time": "2020-11-17T08:15:48.421086",
     "exception": false,
     "start_time": "2020-11-17T08:15:48.290810",
     "status": "completed"
    },
    "tags": []
   },
   "outputs": [
    {
     "data": {
      "text/plain": [
       "Title   Pclass\n",
       "Master  1          6.0\n",
       "        2          2.0\n",
       "        3          6.0\n",
       "Miss    1         30.0\n",
       "        2         20.0\n",
       "        3         18.0\n",
       "Mr      1         42.0\n",
       "        2         30.0\n",
       "        3         26.0\n",
       "Mrs     1         45.0\n",
       "        2         30.5\n",
       "        3         31.0\n",
       "Name: Age, dtype: float64"
      ]
     },
     "execution_count": 50,
     "metadata": {},
     "output_type": "execute_result"
    }
   ],
   "source": [
    "# Median of age\n",
    "df.groupby(['Title', 'Pclass'])['Age'].median()"
   ]
  },
  {
   "cell_type": "code",
   "execution_count": 51,
   "metadata": {
    "execution": {
     "iopub.execute_input": "2020-11-17T08:15:48.668454Z",
     "iopub.status.busy": "2020-11-17T08:15:48.667676Z",
     "iopub.status.idle": "2020-11-17T08:15:48.716101Z",
     "shell.execute_reply": "2020-11-17T08:15:48.715488Z"
    },
    "papermill": {
     "duration": 0.18019,
     "end_time": "2020-11-17T08:15:48.716234",
     "exception": false,
     "start_time": "2020-11-17T08:15:48.536044",
     "status": "completed"
    },
    "tags": []
   },
   "outputs": [],
   "source": [
    "df['Age_fill'] = df['Age']\n",
    "for title in df['Title'].unique():\n",
    "    for pclass in df['Pclass'].unique():\n",
    "        age_median = df.loc[(df['Title']==title) & (df['Pclass']==pclass), 'Age'].median()\n",
    "        if np.isnan(age_median):\n",
    "            age_median = round(df.loc[df['Title']==title, 'Age'].median())\n",
    "        else:\n",
    "            age_median = round(age_median)\n",
    "        df.loc[(df['Age'].isnull()) & (df['Title']==title) & (df['Pclass']==pclass), 'Age_fill'] = age_median"
   ]
  },
  {
   "cell_type": "code",
   "execution_count": 52,
   "metadata": {
    "execution": {
     "iopub.execute_input": "2020-11-17T08:15:48.952700Z",
     "iopub.status.busy": "2020-11-17T08:15:48.950852Z",
     "iopub.status.idle": "2020-11-17T08:15:49.114317Z",
     "shell.execute_reply": "2020-11-17T08:15:49.114838Z"
    },
    "papermill": {
     "duration": 0.284651,
     "end_time": "2020-11-17T08:15:49.115024",
     "exception": false,
     "start_time": "2020-11-17T08:15:48.830373",
     "status": "completed"
    },
    "tags": []
   },
   "outputs": [
    {
     "data": {
      "text/plain": [
       "<matplotlib.axes._subplots.AxesSubplot at 0x7ff42150c050>"
      ]
     },
     "execution_count": 52,
     "metadata": {},
     "output_type": "execute_result"
    },
    {
     "data": {
      "image/png": "[encoded data removed]",
      "text/plain": [
       "<Figure size 432x288 with 1 Axes>"
      ]
     },
     "metadata": {
      "needs_background": "light"
     },
     "output_type": "display_data"
    }
   ],
   "source": [
    "sns.violinplot(x='Survived', y='Age_fill', data=df)"
   ]
  },
  {
   "cell_type": "markdown",
   "metadata": {
    "papermill": {
     "duration": 0.117097,
     "end_time": "2020-11-17T08:15:49.347969",
     "exception": false,
     "start_time": "2020-11-17T08:15:49.230872",
     "status": "completed"
    },
    "tags": []
   },
   "source": [
    "## Discrete Age, Fare\n",
    "* 將Fare分別分成4~6組，之後再比較performance決定採取幾個bins\n",
    "* 將年齡分為>15與<15\n",
    "* 將年齡分成5組"
   ]
  },
  {
   "cell_type": "code",
   "execution_count": 53,
   "metadata": {
    "execution": {
     "iopub.execute_input": "2020-11-17T08:15:49.591888Z",
     "iopub.status.busy": "2020-11-17T08:15:49.586535Z",
     "iopub.status.idle": "2020-11-17T08:15:49.603263Z",
     "shell.execute_reply": "2020-11-17T08:15:49.602569Z"
    },
    "papermill": {
     "duration": 0.140094,
     "end_time": "2020-11-17T08:15:49.603405",
     "exception": false,
     "start_time": "2020-11-17T08:15:49.463311",
     "status": "completed"
    },
    "tags": []
   },
   "outputs": [],
   "source": [
    "df['Fare_4bins'] = pd.qcut(df['Fare'], 4)\n",
    "df['Fare_5bins'] = pd.qcut(df['Fare'], 5)\n",
    "df['Fare_6bins'] = pd.qcut(df['Fare'], 6)"
   ]
  },
  {
   "cell_type": "markdown",
   "metadata": {
    "papermill": {
     "duration": 0.115426,
     "end_time": "2020-11-17T08:15:49.834890",
     "exception": false,
     "start_time": "2020-11-17T08:15:49.719464",
     "status": "completed"
    },
    "tags": []
   },
   "source": [
    "分割後，fare越高，生存率越高"
   ]
  },
  {
   "cell_type": "code",
   "execution_count": 54,
   "metadata": {
    "execution": {
     "iopub.execute_input": "2020-11-17T08:15:50.082636Z",
     "iopub.status.busy": "2020-11-17T08:15:50.081800Z",
     "iopub.status.idle": "2020-11-17T08:15:51.215536Z",
     "shell.execute_reply": "2020-11-17T08:15:51.214781Z"
    },
    "papermill": {
     "duration": 1.264978,
     "end_time": "2020-11-17T08:15:51.215660",
     "exception": false,
     "start_time": "2020-11-17T08:15:49.950682",
     "status": "completed"
    },
    "tags": []
   },
   "outputs": [
    {
     "data": {
      "image/png": "[encoded data removed]",
      "text/plain": [
       "<Figure size 1440x360 with 3 Axes>"
      ]
     },
     "metadata": {
      "needs_background": "light"
     },
     "output_type": "display_data"
    }
   ],
   "source": [
    "plt.figure(figsize=(20, 5))\n",
    "plt.subplot(1, 3, 1)\n",
    "sns.barplot(x='Fare_4bins', y='Survived', data=df)\n",
    "plt.xticks(rotation=30)\n",
    "plt.subplot(1, 3, 2)\n",
    "sns.barplot(x='Fare_5bins', y='Survived', data=df)\n",
    "plt.xticks(rotation=30)\n",
    "plt.subplot(1, 3, 3)\n",
    "sns.barplot(x='Fare_6bins', y='Survived', data=df)\n",
    "plt.xticks(rotation=30)\n",
    "plt.show()"
   ]
  },
  {
   "cell_type": "code",
   "execution_count": 55,
   "metadata": {
    "execution": {
     "iopub.execute_input": "2020-11-17T08:15:51.468458Z",
     "iopub.status.busy": "2020-11-17T08:15:51.463290Z",
     "iopub.status.idle": "2020-11-17T08:15:51.495381Z",
     "shell.execute_reply": "2020-11-17T08:15:51.494661Z"
    },
    "papermill": {
     "duration": 0.160995,
     "end_time": "2020-11-17T08:15:51.495508",
     "exception": false,
     "start_time": "2020-11-17T08:15:51.334513",
     "status": "completed"
    },
    "tags": []
   },
   "outputs": [],
   "source": [
    "le = LabelEncoder()\n",
    "for col in ['Fare_4bins', 'Fare_5bins', 'Fare_6bins']:\n",
    "    df[col] = le.fit_transform(df[col])"
   ]
  },
  {
   "cell_type": "markdown",
   "metadata": {
    "papermill": {
     "duration": 0.117749,
     "end_time": "2020-11-17T08:15:51.731129",
     "exception": false,
     "start_time": "2020-11-17T08:15:51.613380",
     "status": "completed"
    },
    "tags": []
   },
   "source": [
    "* 由下圖前段可觀察出，年齡<15歲生存率較年齡>15歲高\n",
    "* 新增欄位: Age<15。將年齡分成<15與>15"
   ]
  },
  {
   "cell_type": "code",
   "execution_count": 56,
   "metadata": {
    "execution": {
     "iopub.execute_input": "2020-11-17T08:15:51.982423Z",
     "iopub.status.busy": "2020-11-17T08:15:51.974084Z",
     "iopub.status.idle": "2020-11-17T08:15:52.193600Z",
     "shell.execute_reply": "2020-11-17T08:15:52.192935Z"
    },
    "papermill": {
     "duration": 0.344967,
     "end_time": "2020-11-17T08:15:52.193723",
     "exception": false,
     "start_time": "2020-11-17T08:15:51.848756",
     "status": "completed"
    },
    "tags": []
   },
   "outputs": [
    {
     "data": {
      "image/png": "[encoded data removed]",
      "text/plain": [
       "<Figure size 720x360 with 1 Axes>"
      ]
     },
     "metadata": {
      "needs_background": "light"
     },
     "output_type": "display_data"
    }
   ],
   "source": [
    "plt.figure(figsize=(10,5))\n",
    "sns.distplot(df.loc[df['Survived']==1, 'Age'], hist=False, label='Alive').set_xticks(range(0,85,5))\n",
    "sns.distplot(df.loc[df['Survived']==0, 'Age'], hist=False, label='Dead').set_xticks(range(0,85,5))\n",
    "plt.show()"
   ]
  },
  {
   "cell_type": "code",
   "execution_count": 57,
   "metadata": {
    "execution": {
     "iopub.execute_input": "2020-11-17T08:15:52.442443Z",
     "iopub.status.busy": "2020-11-17T08:15:52.441407Z",
     "iopub.status.idle": "2020-11-17T08:15:52.445112Z",
     "shell.execute_reply": "2020-11-17T08:15:52.444382Z"
    },
    "papermill": {
     "duration": 0.130942,
     "end_time": "2020-11-17T08:15:52.445235",
     "exception": false,
     "start_time": "2020-11-17T08:15:52.314293",
     "status": "completed"
    },
    "tags": []
   },
   "outputs": [],
   "source": [
    "df['Age<15'] = (df['Age_fill'] < 15).astype(int)"
   ]
  },
  {
   "cell_type": "code",
   "execution_count": 58,
   "metadata": {
    "execution": {
     "iopub.execute_input": "2020-11-17T08:15:52.692300Z",
     "iopub.status.busy": "2020-11-17T08:15:52.690792Z",
     "iopub.status.idle": "2020-11-17T08:15:52.912970Z",
     "shell.execute_reply": "2020-11-17T08:15:52.912310Z"
    },
    "papermill": {
     "duration": 0.348305,
     "end_time": "2020-11-17T08:15:52.913096",
     "exception": false,
     "start_time": "2020-11-17T08:15:52.564791",
     "status": "completed"
    },
    "tags": []
   },
   "outputs": [
    {
     "data": {
      "text/plain": [
       "<matplotlib.axes._subplots.AxesSubplot at 0x7ff4212c4950>"
      ]
     },
     "execution_count": 58,
     "metadata": {},
     "output_type": "execute_result"
    },
    {
     "data": {
      "image/png": "[encoded data removed]",
      "text/plain": [
       "<Figure size 432x288 with 1 Axes>"
      ]
     },
     "metadata": {
      "needs_background": "light"
     },
     "output_type": "display_data"
    }
   ],
   "source": [
    "sns.barplot(x='Age<15', y='Survived', data=df)"
   ]
  },
  {
   "cell_type": "code",
   "execution_count": 59,
   "metadata": {
    "execution": {
     "iopub.execute_input": "2020-11-17T08:15:53.166285Z",
     "iopub.status.busy": "2020-11-17T08:15:53.161722Z",
     "iopub.status.idle": "2020-11-17T08:15:53.169545Z",
     "shell.execute_reply": "2020-11-17T08:15:53.168801Z"
    },
    "papermill": {
     "duration": 0.135375,
     "end_time": "2020-11-17T08:15:53.169665",
     "exception": false,
     "start_time": "2020-11-17T08:15:53.034290",
     "status": "completed"
    },
    "tags": []
   },
   "outputs": [],
   "source": [
    "df['Age_bin'] = pd.qcut(df['Age_fill'], 5)"
   ]
  },
  {
   "cell_type": "code",
   "execution_count": 60,
   "metadata": {
    "execution": {
     "iopub.execute_input": "2020-11-17T08:15:53.430413Z",
     "iopub.status.busy": "2020-11-17T08:15:53.427100Z",
     "iopub.status.idle": "2020-11-17T08:15:53.932035Z",
     "shell.execute_reply": "2020-11-17T08:15:53.931287Z"
    },
    "papermill": {
     "duration": 0.640531,
     "end_time": "2020-11-17T08:15:53.932160",
     "exception": false,
     "start_time": "2020-11-17T08:15:53.291629",
     "status": "completed"
    },
    "tags": []
   },
   "outputs": [
    {
     "data": {
      "text/plain": [
       "<matplotlib.axes._subplots.AxesSubplot at 0x7ff4212744d0>"
      ]
     },
     "execution_count": 60,
     "metadata": {},
     "output_type": "execute_result"
    },
    {
     "data": {
      "image/png": "[encoded data removed]",
      "text/plain": [
       "<Figure size 432x288 with 1 Axes>"
      ]
     },
     "metadata": {
      "needs_background": "light"
     },
     "output_type": "display_data"
    }
   ],
   "source": [
    "sns.barplot(x='Age_bin', y='Survived', data=df)"
   ]
  },
  {
   "cell_type": "code",
   "execution_count": 61,
   "metadata": {
    "execution": {
     "iopub.execute_input": "2020-11-17T08:15:54.194605Z",
     "iopub.status.busy": "2020-11-17T08:15:54.182795Z",
     "iopub.status.idle": "2020-11-17T08:15:54.198214Z",
     "shell.execute_reply": "2020-11-17T08:15:54.197476Z"
    },
    "papermill": {
     "duration": 0.143806,
     "end_time": "2020-11-17T08:15:54.198349",
     "exception": false,
     "start_time": "2020-11-17T08:15:54.054543",
     "status": "completed"
    },
    "tags": []
   },
   "outputs": [],
   "source": [
    "df['Age_bin'] = le.fit_transform(df['Age_bin'])"
   ]
  },
  {
   "cell_type": "markdown",
   "metadata": {
    "papermill": {
     "duration": 0.122976,
     "end_time": "2020-11-17T08:15:54.443573",
     "exception": false,
     "start_time": "2020-11-17T08:15:54.320597",
     "status": "completed"
    },
    "tags": []
   },
   "source": [
    "## Label encoding\n",
    "將欄位Cabin, Embarked, Title做label encoding"
   ]
  },
  {
   "cell_type": "code",
   "execution_count": 62,
   "metadata": {
    "execution": {
     "iopub.execute_input": "2020-11-17T08:15:54.695830Z",
     "iopub.status.busy": "2020-11-17T08:15:54.694750Z",
     "iopub.status.idle": "2020-11-17T08:15:54.699048Z",
     "shell.execute_reply": "2020-11-17T08:15:54.698321Z"
    },
    "papermill": {
     "duration": 0.132667,
     "end_time": "2020-11-17T08:15:54.699172",
     "exception": false,
     "start_time": "2020-11-17T08:15:54.566505",
     "status": "completed"
    },
    "tags": []
   },
   "outputs": [
    {
     "data": {
      "text/plain": [
       "Index(['PassengerId', 'Survived', 'Pclass', 'Name', 'Sex', 'Age', 'SibSp',\n",
       "       'Parch', 'Ticket', 'Fare', 'Cabin', 'Embarked', 'Title', 'FamilySize',\n",
       "       'Cabin_letter', 'Cabin_fill', 'Ticket_survived', 'Age_fill',\n",
       "       'Fare_4bins', 'Fare_5bins', 'Fare_6bins', 'Age<15', 'Age_bin'],\n",
       "      dtype='object')"
      ]
     },
     "execution_count": 62,
     "metadata": {},
     "output_type": "execute_result"
    }
   ],
   "source": [
    "df.columns"
   ]
  },
  {
   "cell_type": "code",
   "execution_count": 63,
   "metadata": {
    "execution": {
     "iopub.execute_input": "2020-11-17T08:15:54.955053Z",
     "iopub.status.busy": "2020-11-17T08:15:54.953512Z",
     "iopub.status.idle": "2020-11-17T08:15:54.958739Z",
     "shell.execute_reply": "2020-11-17T08:15:54.958030Z"
    },
    "papermill": {
     "duration": 0.135541,
     "end_time": "2020-11-17T08:15:54.958899",
     "exception": false,
     "start_time": "2020-11-17T08:15:54.823358",
     "status": "completed"
    },
    "tags": []
   },
   "outputs": [],
   "source": [
    "df.drop(['SibSp', 'Parch', 'Name', 'Age', 'Ticket', 'Fare', 'Cabin', 'Cabin_letter', 'Age_fill'],axis=1, inplace=True)"
   ]
  },
  {
   "cell_type": "code",
   "execution_count": 64,
   "metadata": {
    "execution": {
     "iopub.execute_input": "2020-11-17T08:15:55.217195Z",
     "iopub.status.busy": "2020-11-17T08:15:55.216443Z",
     "iopub.status.idle": "2020-11-17T08:15:55.219694Z",
     "shell.execute_reply": "2020-11-17T08:15:55.219035Z"
    },
    "papermill": {
     "duration": 0.136335,
     "end_time": "2020-11-17T08:15:55.219822",
     "exception": false,
     "start_time": "2020-11-17T08:15:55.083487",
     "status": "completed"
    },
    "tags": []
   },
   "outputs": [],
   "source": [
    "le_col = ['Cabin_fill', 'Embarked', 'Title']\n",
    "for col in le_col:\n",
    "    df[col] = le.fit_transform(df[col])"
   ]
  },
  {
   "cell_type": "code",
   "execution_count": 65,
   "metadata": {
    "execution": {
     "iopub.execute_input": "2020-11-17T08:15:55.477227Z",
     "iopub.status.busy": "2020-11-17T08:15:55.474743Z",
     "iopub.status.idle": "2020-11-17T08:15:55.481984Z",
     "shell.execute_reply": "2020-11-17T08:15:55.481412Z"
    },
    "papermill": {
     "duration": 0.137622,
     "end_time": "2020-11-17T08:15:55.482111",
     "exception": false,
     "start_time": "2020-11-17T08:15:55.344489",
     "status": "completed"
    },
    "tags": []
   },
   "outputs": [
    {
     "data": {
      "text/plain": [
       "PassengerId          0\n",
       "Survived           418\n",
       "Pclass               0\n",
       "Sex                  0\n",
       "Embarked             0\n",
       "Title                0\n",
       "FamilySize           0\n",
       "Cabin_fill           0\n",
       "Ticket_survived      0\n",
       "Fare_4bins           0\n",
       "Fare_5bins           0\n",
       "Fare_6bins           0\n",
       "Age<15               0\n",
       "Age_bin              0\n",
       "dtype: int64"
      ]
     },
     "execution_count": 65,
     "metadata": {},
     "output_type": "execute_result"
    }
   ],
   "source": [
    "df.isnull().sum()"
   ]
  },
  {
   "cell_type": "markdown",
   "metadata": {
    "papermill": {
     "duration": 0.124457,
     "end_time": "2020-11-17T08:15:55.730812",
     "exception": false,
     "start_time": "2020-11-17T08:15:55.606355",
     "status": "completed"
    },
    "tags": []
   },
   "source": [
    "# Modeling"
   ]
  },
  {
   "cell_type": "code",
   "execution_count": 66,
   "metadata": {
    "execution": {
     "iopub.execute_input": "2020-11-17T08:15:55.987440Z",
     "iopub.status.busy": "2020-11-17T08:15:55.986675Z",
     "iopub.status.idle": "2020-11-17T08:15:55.996184Z",
     "shell.execute_reply": "2020-11-17T08:15:55.995127Z"
    },
    "papermill": {
     "duration": 0.141787,
     "end_time": "2020-11-17T08:15:55.996375",
     "exception": false,
     "start_time": "2020-11-17T08:15:55.854588",
     "status": "completed"
    },
    "tags": []
   },
   "outputs": [
    {
     "name": "stderr",
     "output_type": "stream",
     "text": [
      "/opt/conda/lib/python3.7/site-packages/pandas/core/frame.py:3997: SettingWithCopyWarning: \n",
      "A value is trying to be set on a copy of a slice from a DataFrame\n",
      "\n",
      "See the caveats in the documentation: https://pandas.pydata.org/pandas-docs/stable/user_guide/indexing.html#returning-a-view-versus-a-copy\n",
      "  errors=errors,\n",
      "/opt/conda/lib/python3.7/site-packages/ipykernel_launcher.py:4: SettingWithCopyWarning: \n",
      "A value is trying to be set on a copy of a slice from a DataFrame.\n",
      "Try using .loc[row_indexer,col_indexer] = value instead\n",
      "\n",
      "See the caveats in the documentation: https://pandas.pydata.org/pandas-docs/stable/user_guide/indexing.html#returning-a-view-versus-a-copy\n",
      "  after removing the cwd from sys.path.\n"
     ]
    }
   ],
   "source": [
    "df_train = df[:train.shape[0]]\n",
    "df_test = df[train.shape[0]:]\n",
    "df_test.drop(['Survived'], axis=1, inplace=True)\n",
    "df_train['Survived'] = df_train['Survived'].astype(int)"
   ]
  },
  {
   "cell_type": "code",
   "execution_count": 67,
   "metadata": {
    "execution": {
     "iopub.execute_input": "2020-11-17T08:15:56.256309Z",
     "iopub.status.busy": "2020-11-17T08:15:56.255196Z",
     "iopub.status.idle": "2020-11-17T08:15:56.258595Z",
     "shell.execute_reply": "2020-11-17T08:15:56.257864Z"
    },
    "papermill": {
     "duration": 0.1346,
     "end_time": "2020-11-17T08:15:56.258717",
     "exception": false,
     "start_time": "2020-11-17T08:15:56.124117",
     "status": "completed"
    },
    "tags": []
   },
   "outputs": [],
   "source": [
    "# Train random forest model with given features, and return cross validation score\n",
    "def rf_train(col):\n",
    "    rf = RandomForestClassifier(n_estimators=100, random_state=1)\n",
    "    scores = cross_val_score(rf, df_train[col], df_train['Survived'], cv=5, scoring='accuracy')\n",
    "    print(scores.mean())"
   ]
  },
  {
   "cell_type": "code",
   "execution_count": 68,
   "metadata": {
    "execution": {
     "iopub.execute_input": "2020-11-17T08:15:56.515939Z",
     "iopub.status.busy": "2020-11-17T08:15:56.515107Z",
     "iopub.status.idle": "2020-11-17T08:15:56.519392Z",
     "shell.execute_reply": "2020-11-17T08:15:56.518658Z"
    },
    "papermill": {
     "duration": 0.134727,
     "end_time": "2020-11-17T08:15:56.519521",
     "exception": false,
     "start_time": "2020-11-17T08:15:56.384794",
     "status": "completed"
    },
    "tags": []
   },
   "outputs": [
    {
     "data": {
      "text/plain": [
       "Index(['PassengerId', 'Survived', 'Pclass', 'Sex', 'Embarked', 'Title',\n",
       "       'FamilySize', 'Cabin_fill', 'Ticket_survived', 'Fare_4bins',\n",
       "       'Fare_5bins', 'Fare_6bins', 'Age<15', 'Age_bin'],\n",
       "      dtype='object')"
      ]
     },
     "execution_count": 68,
     "metadata": {},
     "output_type": "execute_result"
    }
   ],
   "source": [
    "df_train.columns"
   ]
  },
  {
   "cell_type": "code",
   "execution_count": 69,
   "metadata": {
    "execution": {
     "iopub.execute_input": "2020-11-17T08:15:56.780107Z",
     "iopub.status.busy": "2020-11-17T08:15:56.778839Z",
     "iopub.status.idle": "2020-11-17T08:16:00.625995Z",
     "shell.execute_reply": "2020-11-17T08:16:00.625402Z"
    },
    "papermill": {
     "duration": 3.980937,
     "end_time": "2020-11-17T08:16:00.626133",
     "exception": false,
     "start_time": "2020-11-17T08:15:56.645196",
     "status": "completed"
    },
    "tags": []
   },
   "outputs": [
    {
     "name": "stdout",
     "output_type": "stream",
     "text": [
      "0.8462682819659783\n",
      "0.8462431736865232\n",
      "0.840631473228297\n"
     ]
    }
   ],
   "source": [
    "# Fare_4bins表現較好\n",
    "col = ['Pclass', 'Sex', 'Embarked', 'Title', 'FamilySize', 'Ticket_survived', 'Fare_4bins', 'Age<15', 'Age_bin']\n",
    "rf_train(col)\n",
    "col = ['Pclass', 'Sex', 'Embarked', 'Title', 'FamilySize', 'Ticket_survived', 'Fare_5bins', 'Age<15', 'Age_bin']\n",
    "rf_train(col)\n",
    "col = ['Pclass', 'Sex', 'Embarked', 'Title', 'FamilySize', 'Ticket_survived', 'Fare_6bins', 'Age<15', 'Age_bin']\n",
    "rf_train(col)"
   ]
  },
  {
   "cell_type": "markdown",
   "metadata": {
    "papermill": {
     "duration": 0.125844,
     "end_time": "2020-11-17T08:16:00.878603",
     "exception": false,
     "start_time": "2020-11-17T08:16:00.752759",
     "status": "completed"
    },
    "tags": []
   },
   "source": [
    "## Hyperparameter tunning"
   ]
  },
  {
   "cell_type": "code",
   "execution_count": 70,
   "metadata": {
    "execution": {
     "iopub.execute_input": "2020-11-17T08:16:01.139827Z",
     "iopub.status.busy": "2020-11-17T08:16:01.139072Z",
     "iopub.status.idle": "2020-11-17T08:16:01.142117Z",
     "shell.execute_reply": "2020-11-17T08:16:01.142929Z"
    },
    "papermill": {
     "duration": 0.138487,
     "end_time": "2020-11-17T08:16:01.143131",
     "exception": false,
     "start_time": "2020-11-17T08:16:01.004644",
     "status": "completed"
    },
    "tags": []
   },
   "outputs": [
    {
     "name": "stdout",
     "output_type": "stream",
     "text": [
      "CPU times: user 152 µs, sys: 0 ns, total: 152 µs\n",
      "Wall time: 117 µs\n"
     ]
    }
   ],
   "source": [
    "%%time\n",
    "col = ['Pclass', 'Sex', 'Embarked', 'Title', 'FamilySize', 'Ticket_survived', 'Fare_4bins', 'Age<15', 'Age_bin']\n",
    "rf = RandomForestClassifier(random_state=1)\n",
    "param = {'n_estimators': np.arange(50, 501, 50),\n",
    "         'max_depth': np.arange(5, 21, 5),\n",
    "         'min_samples_split': np.arange(5, 26, 5),\n",
    "         'min_samples_leaf': np.arange(2, 11, 2),\n",
    "         'max_leaf_nodes':  np.arange(10, 41, 10)\n",
    "        }\n",
    "\n",
    "grid = GridSearchCV(estimator=rf, param_grid=param, cv=5, verbose=0, scoring='accuracy', n_jobs = -1, return_train_score=True)\n",
    "# grid.fit(df_train[col], df_train['Survived'])\n",
    "\n",
    "# print(grid.best_params_)\n",
    "# print(grid.best_score_)\n",
    "# print(grid.best_estimator_)"
   ]
  },
  {
   "cell_type": "markdown",
   "metadata": {
    "papermill": {
     "duration": 0.127426,
     "end_time": "2020-11-17T08:16:01.400129",
     "exception": false,
     "start_time": "2020-11-17T08:16:01.272703",
     "status": "completed"
    },
    "tags": []
   },
   "source": [
    "## Predict"
   ]
  },
  {
   "cell_type": "code",
   "execution_count": 71,
   "metadata": {
    "execution": {
     "iopub.execute_input": "2020-11-17T08:16:01.665134Z",
     "iopub.status.busy": "2020-11-17T08:16:01.664362Z",
     "iopub.status.idle": "2020-11-17T08:16:01.987570Z",
     "shell.execute_reply": "2020-11-17T08:16:01.986855Z"
    },
    "papermill": {
     "duration": 0.460519,
     "end_time": "2020-11-17T08:16:01.987697",
     "exception": false,
     "start_time": "2020-11-17T08:16:01.527178",
     "status": "completed"
    },
    "tags": []
   },
   "outputs": [],
   "source": [
    "# Before tuning, score = 0.76315\n",
    "rf = RandomForestClassifier(n_estimators=100, random_state=1)\n",
    "rf.fit(df_train[col], df_train['Survived'])\n",
    "result = rf.predict(df_test[col])\n",
    "output = pd.DataFrame({'PassengerId': df_test['PassengerId'], 'Survived': result})\n",
    "output.to_csv('before_tuning.csv', index = False)"
   ]
  },
  {
   "cell_type": "code",
   "execution_count": 72,
   "metadata": {
    "execution": {
     "iopub.execute_input": "2020-11-17T08:16:02.259370Z",
     "iopub.status.busy": "2020-11-17T08:16:02.258586Z",
     "iopub.status.idle": "2020-11-17T08:16:02.512358Z",
     "shell.execute_reply": "2020-11-17T08:16:02.511546Z"
    },
    "papermill": {
     "duration": 0.393177,
     "end_time": "2020-11-17T08:16:02.512492",
     "exception": false,
     "start_time": "2020-11-17T08:16:02.119315",
     "status": "completed"
    },
    "tags": []
   },
   "outputs": [],
   "source": [
    "# After tuning, score = 0.80143\n",
    "rf_params = {'max_depth': 15, 'max_leaf_nodes': 40, 'min_samples_leaf': 2, 'min_samples_split': 5, 'n_estimators': 100}\n",
    "rf = RandomForestClassifier(**rf_params)\n",
    "\n",
    "rf.fit(df_train[col], df_train['Survived'])\n",
    "result = rf.predict(df_test[col])\n",
    "output = pd.DataFrame({'PassengerId': df_test['PassengerId'], 'Survived': result})\n",
    "output.to_csv('after_tuning.csv', index = False)"
   ]
  }
 ],
 "metadata": {
  "kernelspec": {
   "display_name": "Python 3",
   "language": "python",
   "name": "python3"
  },
  "language_info": {
   "codemirror_mode": {
    "name": "ipython",
    "version": 3
   },
   "file_extension": ".py",
   "mimetype": "text/x-python",
   "name": "python",
   "nbconvert_exporter": "python",
   "pygments_lexer": "ipython3",
   "version": "3.7.6"
  },
  "papermill": {
   "duration": 47.419808,
   "end_time": "2020-11-17T08:16:02.749291",
   "environment_variables": {},
   "exception": null,
   "input_path": "__notebook__.ipynb",
   "output_path": "__notebook__.ipynb",
   "parameters": {},
   "start_time": "2020-11-17T08:15:15.329483",
   "version": "2.1.0"
  }
 },
 "nbformat": 4,
 "nbformat_minor": 4
}
